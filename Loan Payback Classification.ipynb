{
  "nbformat": 4,
  "nbformat_minor": 0,
  "metadata": {
    "kernelspec": {
      "display_name": "Python 3",
      "language": "python",
      "name": "python3"
    },
    "language_info": {
      "codemirror_mode": {
        "name": "ipython",
        "version": 3
      },
      "file_extension": ".py",
      "mimetype": "text/x-python",
      "name": "python",
      "nbconvert_exporter": "python",
      "pygments_lexer": "ipython3",
      "version": "3.7.6"
    },
    "colab": {
      "name": "Loan Payback Classification.ipynb",
      "provenance": [],
      "toc_visible": true
    }
  },
  "cells": [
    {
      "cell_type": "code",
      "metadata": {
        "id": "iluDupijMb-m"
      },
      "source": [
        "import pandas as pd\n",
        "import numpy as np\n",
        "import matplotlib.pyplot as plt\n",
        "import seaborn as sb\n",
        "import re\n",
        "from sklearn.model_selection import train_test_split\n",
        "pd.set_option('display.max_colwidth', 0)\n",
        "\n",
        "# might be needed depending on your version of Jupyter\n",
        "%matplotlib inline"
      ],
      "execution_count": 1,
      "outputs": []
    },
    {
      "cell_type": "code",
      "metadata": {
        "id": "cIdMpzFoMb-y"
      },
      "source": [
        "data_info = pd.read_csv('lending_club_info.csv',index_col='LoanStatNew')"
      ],
      "execution_count": 2,
      "outputs": []
    },
    {
      "cell_type": "code",
      "metadata": {
        "id": "GN12gdYOMb-0",
        "outputId": "4c5a544e-6bb7-473c-af42-a2c03830ec44",
        "colab": {
          "base_uri": "https://localhost:8080/",
          "height": 1000
        }
      },
      "source": [
        "data_info"
      ],
      "execution_count": 3,
      "outputs": [
        {
          "output_type": "execute_result",
          "data": {
            "text/html": [
              "<div>\n",
              "<style scoped>\n",
              "    .dataframe tbody tr th:only-of-type {\n",
              "        vertical-align: middle;\n",
              "    }\n",
              "\n",
              "    .dataframe tbody tr th {\n",
              "        vertical-align: top;\n",
              "    }\n",
              "\n",
              "    .dataframe thead th {\n",
              "        text-align: right;\n",
              "    }\n",
              "</style>\n",
              "<table border=\"1\" class=\"dataframe\">\n",
              "  <thead>\n",
              "    <tr style=\"text-align: right;\">\n",
              "      <th></th>\n",
              "      <th>Description</th>\n",
              "    </tr>\n",
              "    <tr>\n",
              "      <th>LoanStatNew</th>\n",
              "      <th></th>\n",
              "    </tr>\n",
              "  </thead>\n",
              "  <tbody>\n",
              "    <tr>\n",
              "      <th>loan_amnt</th>\n",
              "      <td>The listed amount of the loan applied for by the borrower. If at some point in time, the credit department reduces the loan amount, then it will be reflected in this value.</td>\n",
              "    </tr>\n",
              "    <tr>\n",
              "      <th>term</th>\n",
              "      <td>The number of payments on the loan. Values are in months and can be either 36 or 60.</td>\n",
              "    </tr>\n",
              "    <tr>\n",
              "      <th>int_rate</th>\n",
              "      <td>Interest Rate on the loan</td>\n",
              "    </tr>\n",
              "    <tr>\n",
              "      <th>installment</th>\n",
              "      <td>The monthly payment owed by the borrower if the loan originates.</td>\n",
              "    </tr>\n",
              "    <tr>\n",
              "      <th>grade</th>\n",
              "      <td>LC assigned loan grade</td>\n",
              "    </tr>\n",
              "    <tr>\n",
              "      <th>sub_grade</th>\n",
              "      <td>LC assigned loan subgrade</td>\n",
              "    </tr>\n",
              "    <tr>\n",
              "      <th>emp_title</th>\n",
              "      <td>The job title supplied by the Borrower when applying for the loan.*</td>\n",
              "    </tr>\n",
              "    <tr>\n",
              "      <th>emp_length</th>\n",
              "      <td>Employment length in years. Possible values are between 0 and 10 where 0 means less than one year and 10 means ten or more years.</td>\n",
              "    </tr>\n",
              "    <tr>\n",
              "      <th>home_ownership</th>\n",
              "      <td>The home ownership status provided by the borrower during registration or obtained from the credit report. Our values are: RENT, OWN, MORTGAGE, OTHER</td>\n",
              "    </tr>\n",
              "    <tr>\n",
              "      <th>annual_inc</th>\n",
              "      <td>The self-reported annual income provided by the borrower during registration.</td>\n",
              "    </tr>\n",
              "    <tr>\n",
              "      <th>verification_status</th>\n",
              "      <td>Indicates if income was verified by LC, not verified, or if the income source was verified</td>\n",
              "    </tr>\n",
              "    <tr>\n",
              "      <th>issue_d</th>\n",
              "      <td>The month which the loan was funded</td>\n",
              "    </tr>\n",
              "    <tr>\n",
              "      <th>loan_status</th>\n",
              "      <td>Current status of the loan</td>\n",
              "    </tr>\n",
              "    <tr>\n",
              "      <th>purpose</th>\n",
              "      <td>A category provided by the borrower for the loan request.</td>\n",
              "    </tr>\n",
              "    <tr>\n",
              "      <th>title</th>\n",
              "      <td>The loan title provided by the borrower</td>\n",
              "    </tr>\n",
              "    <tr>\n",
              "      <th>zip_code</th>\n",
              "      <td>The first 3 numbers of the zip code provided by the borrower in the loan application.</td>\n",
              "    </tr>\n",
              "    <tr>\n",
              "      <th>addr_state</th>\n",
              "      <td>The state provided by the borrower in the loan application</td>\n",
              "    </tr>\n",
              "    <tr>\n",
              "      <th>dti</th>\n",
              "      <td>A ratio calculated using the borrower’s total monthly debt payments on the total debt obligations, excluding mortgage and the requested LC loan, divided by the borrower’s self-reported monthly income.</td>\n",
              "    </tr>\n",
              "    <tr>\n",
              "      <th>earliest_cr_line</th>\n",
              "      <td>The month the borrower's earliest reported credit line was opened</td>\n",
              "    </tr>\n",
              "    <tr>\n",
              "      <th>open_acc</th>\n",
              "      <td>The number of open credit lines in the borrower's credit file.</td>\n",
              "    </tr>\n",
              "    <tr>\n",
              "      <th>pub_rec</th>\n",
              "      <td>Number of derogatory public records</td>\n",
              "    </tr>\n",
              "    <tr>\n",
              "      <th>revol_bal</th>\n",
              "      <td>Total credit revolving balance</td>\n",
              "    </tr>\n",
              "    <tr>\n",
              "      <th>revol_util</th>\n",
              "      <td>Revolving line utilization rate, or the amount of credit the borrower is using relative to all available revolving credit.</td>\n",
              "    </tr>\n",
              "    <tr>\n",
              "      <th>total_acc</th>\n",
              "      <td>The total number of credit lines currently in the borrower's credit file</td>\n",
              "    </tr>\n",
              "    <tr>\n",
              "      <th>initial_list_status</th>\n",
              "      <td>The initial listing status of the loan. Possible values are – W, F</td>\n",
              "    </tr>\n",
              "    <tr>\n",
              "      <th>application_type</th>\n",
              "      <td>Indicates whether the loan is an individual application or a joint application with two co-borrowers</td>\n",
              "    </tr>\n",
              "    <tr>\n",
              "      <th>mort_acc</th>\n",
              "      <td>Number of mortgage accounts.</td>\n",
              "    </tr>\n",
              "    <tr>\n",
              "      <th>pub_rec_bankruptcies</th>\n",
              "      <td>Number of public record bankruptcies</td>\n",
              "    </tr>\n",
              "  </tbody>\n",
              "</table>\n",
              "</div>"
            ],
            "text/plain": [
              "                                                                                                                                                                                                                   Description\n",
              "LoanStatNew                                                                                                                                                                                                                   \n",
              "loan_amnt             The listed amount of the loan applied for by the borrower. If at some point in time, the credit department reduces the loan amount, then it will be reflected in this value.                            \n",
              "term                  The number of payments on the loan. Values are in months and can be either 36 or 60.                                                                                                                    \n",
              "int_rate              Interest Rate on the loan                                                                                                                                                                               \n",
              "installment           The monthly payment owed by the borrower if the loan originates.                                                                                                                                        \n",
              "grade                 LC assigned loan grade                                                                                                                                                                                  \n",
              "sub_grade             LC assigned loan subgrade                                                                                                                                                                               \n",
              "emp_title             The job title supplied by the Borrower when applying for the loan.*                                                                                                                                     \n",
              "emp_length            Employment length in years. Possible values are between 0 and 10 where 0 means less than one year and 10 means ten or more years.                                                                       \n",
              "home_ownership        The home ownership status provided by the borrower during registration or obtained from the credit report. Our values are: RENT, OWN, MORTGAGE, OTHER                                                   \n",
              "annual_inc            The self-reported annual income provided by the borrower during registration.                                                                                                                           \n",
              "verification_status   Indicates if income was verified by LC, not verified, or if the income source was verified                                                                                                              \n",
              "issue_d               The month which the loan was funded                                                                                                                                                                     \n",
              "loan_status           Current status of the loan                                                                                                                                                                              \n",
              "purpose               A category provided by the borrower for the loan request.                                                                                                                                               \n",
              "title                 The loan title provided by the borrower                                                                                                                                                                 \n",
              "zip_code              The first 3 numbers of the zip code provided by the borrower in the loan application.                                                                                                                   \n",
              "addr_state            The state provided by the borrower in the loan application                                                                                                                                              \n",
              "dti                   A ratio calculated using the borrower’s total monthly debt payments on the total debt obligations, excluding mortgage and the requested LC loan, divided by the borrower’s self-reported monthly income.\n",
              "earliest_cr_line      The month the borrower's earliest reported credit line was opened                                                                                                                                       \n",
              "open_acc              The number of open credit lines in the borrower's credit file.                                                                                                                                          \n",
              "pub_rec               Number of derogatory public records                                                                                                                                                                     \n",
              "revol_bal             Total credit revolving balance                                                                                                                                                                          \n",
              "revol_util            Revolving line utilization rate, or the amount of credit the borrower is using relative to all available revolving credit.                                                                              \n",
              "total_acc             The total number of credit lines currently in the borrower's credit file                                                                                                                                \n",
              "initial_list_status   The initial listing status of the loan. Possible values are – W, F                                                                                                                                      \n",
              "application_type      Indicates whether the loan is an individual application or a joint application with two co-borrowers                                                                                                    \n",
              "mort_acc              Number of mortgage accounts.                                                                                                                                                                            \n",
              "pub_rec_bankruptcies  Number of public record bankruptcies                                                                                                                                                                    "
            ]
          },
          "metadata": {
            "tags": []
          },
          "execution_count": 3
        }
      ]
    },
    {
      "cell_type": "code",
      "metadata": {
        "id": "q17FThkVMb-4"
      },
      "source": [
        "def feat_info(col_name):\n",
        "    '''\n",
        "    This function will render the description of the columns from info dataframe.\n",
        "    '''\n",
        "    return (col_name+\" in our table refers to the \"+data_info.loc[col_name]['Description'])"
      ],
      "execution_count": 4,
      "outputs": []
    },
    {
      "cell_type": "code",
      "metadata": {
        "id": "ZaGGkUUoMb-6"
      },
      "source": [
        "df = pd.read_csv('lending_club_loan_two.csv')"
      ],
      "execution_count": 5,
      "outputs": []
    },
    {
      "cell_type": "code",
      "metadata": {
        "id": "fRNF8f9LMb-8",
        "outputId": "9f799bdd-c9e3-4fec-8b54-61814ce225d2",
        "colab": {
          "base_uri": "https://localhost:8080/",
          "height": 400
        }
      },
      "source": [
        "df.head(5)"
      ],
      "execution_count": 6,
      "outputs": [
        {
          "output_type": "execute_result",
          "data": {
            "text/html": [
              "<div>\n",
              "<style scoped>\n",
              "    .dataframe tbody tr th:only-of-type {\n",
              "        vertical-align: middle;\n",
              "    }\n",
              "\n",
              "    .dataframe tbody tr th {\n",
              "        vertical-align: top;\n",
              "    }\n",
              "\n",
              "    .dataframe thead th {\n",
              "        text-align: right;\n",
              "    }\n",
              "</style>\n",
              "<table border=\"1\" class=\"dataframe\">\n",
              "  <thead>\n",
              "    <tr style=\"text-align: right;\">\n",
              "      <th></th>\n",
              "      <th>loan_amnt</th>\n",
              "      <th>term</th>\n",
              "      <th>int_rate</th>\n",
              "      <th>installment</th>\n",
              "      <th>grade</th>\n",
              "      <th>sub_grade</th>\n",
              "      <th>emp_title</th>\n",
              "      <th>emp_length</th>\n",
              "      <th>home_ownership</th>\n",
              "      <th>annual_inc</th>\n",
              "      <th>verification_status</th>\n",
              "      <th>issue_d</th>\n",
              "      <th>loan_status</th>\n",
              "      <th>purpose</th>\n",
              "      <th>title</th>\n",
              "      <th>dti</th>\n",
              "      <th>earliest_cr_line</th>\n",
              "      <th>open_acc</th>\n",
              "      <th>pub_rec</th>\n",
              "      <th>revol_bal</th>\n",
              "      <th>revol_util</th>\n",
              "      <th>total_acc</th>\n",
              "      <th>initial_list_status</th>\n",
              "      <th>application_type</th>\n",
              "      <th>mort_acc</th>\n",
              "      <th>pub_rec_bankruptcies</th>\n",
              "      <th>address</th>\n",
              "    </tr>\n",
              "  </thead>\n",
              "  <tbody>\n",
              "    <tr>\n",
              "      <th>0</th>\n",
              "      <td>10000.0</td>\n",
              "      <td>36 months</td>\n",
              "      <td>11.44</td>\n",
              "      <td>329.48</td>\n",
              "      <td>B</td>\n",
              "      <td>B4</td>\n",
              "      <td>Marketing</td>\n",
              "      <td>10+ years</td>\n",
              "      <td>RENT</td>\n",
              "      <td>117000.0</td>\n",
              "      <td>Not Verified</td>\n",
              "      <td>Jan-2015</td>\n",
              "      <td>Fully Paid</td>\n",
              "      <td>vacation</td>\n",
              "      <td>Vacation</td>\n",
              "      <td>26.24</td>\n",
              "      <td>Jun-1990</td>\n",
              "      <td>16.0</td>\n",
              "      <td>0.0</td>\n",
              "      <td>36369.0</td>\n",
              "      <td>41.8</td>\n",
              "      <td>25.0</td>\n",
              "      <td>w</td>\n",
              "      <td>INDIVIDUAL</td>\n",
              "      <td>0.0</td>\n",
              "      <td>0.0</td>\n",
              "      <td>0174 Michelle Gateway\\nMendozaberg, OK 22690</td>\n",
              "    </tr>\n",
              "    <tr>\n",
              "      <th>1</th>\n",
              "      <td>8000.0</td>\n",
              "      <td>36 months</td>\n",
              "      <td>11.99</td>\n",
              "      <td>265.68</td>\n",
              "      <td>B</td>\n",
              "      <td>B5</td>\n",
              "      <td>Credit analyst</td>\n",
              "      <td>4 years</td>\n",
              "      <td>MORTGAGE</td>\n",
              "      <td>65000.0</td>\n",
              "      <td>Not Verified</td>\n",
              "      <td>Jan-2015</td>\n",
              "      <td>Fully Paid</td>\n",
              "      <td>debt_consolidation</td>\n",
              "      <td>Debt consolidation</td>\n",
              "      <td>22.05</td>\n",
              "      <td>Jul-2004</td>\n",
              "      <td>17.0</td>\n",
              "      <td>0.0</td>\n",
              "      <td>20131.0</td>\n",
              "      <td>53.3</td>\n",
              "      <td>27.0</td>\n",
              "      <td>f</td>\n",
              "      <td>INDIVIDUAL</td>\n",
              "      <td>3.0</td>\n",
              "      <td>0.0</td>\n",
              "      <td>1076 Carney Fort Apt. 347\\nLoganmouth, SD 05113</td>\n",
              "    </tr>\n",
              "    <tr>\n",
              "      <th>2</th>\n",
              "      <td>15600.0</td>\n",
              "      <td>36 months</td>\n",
              "      <td>10.49</td>\n",
              "      <td>506.97</td>\n",
              "      <td>B</td>\n",
              "      <td>B3</td>\n",
              "      <td>Statistician</td>\n",
              "      <td>&lt; 1 year</td>\n",
              "      <td>RENT</td>\n",
              "      <td>43057.0</td>\n",
              "      <td>Source Verified</td>\n",
              "      <td>Jan-2015</td>\n",
              "      <td>Fully Paid</td>\n",
              "      <td>credit_card</td>\n",
              "      <td>Credit card refinancing</td>\n",
              "      <td>12.79</td>\n",
              "      <td>Aug-2007</td>\n",
              "      <td>13.0</td>\n",
              "      <td>0.0</td>\n",
              "      <td>11987.0</td>\n",
              "      <td>92.2</td>\n",
              "      <td>26.0</td>\n",
              "      <td>f</td>\n",
              "      <td>INDIVIDUAL</td>\n",
              "      <td>0.0</td>\n",
              "      <td>0.0</td>\n",
              "      <td>87025 Mark Dale Apt. 269\\nNew Sabrina, WV 05113</td>\n",
              "    </tr>\n",
              "    <tr>\n",
              "      <th>3</th>\n",
              "      <td>7200.0</td>\n",
              "      <td>36 months</td>\n",
              "      <td>6.49</td>\n",
              "      <td>220.65</td>\n",
              "      <td>A</td>\n",
              "      <td>A2</td>\n",
              "      <td>Client Advocate</td>\n",
              "      <td>6 years</td>\n",
              "      <td>RENT</td>\n",
              "      <td>54000.0</td>\n",
              "      <td>Not Verified</td>\n",
              "      <td>Nov-2014</td>\n",
              "      <td>Fully Paid</td>\n",
              "      <td>credit_card</td>\n",
              "      <td>Credit card refinancing</td>\n",
              "      <td>2.60</td>\n",
              "      <td>Sep-2006</td>\n",
              "      <td>6.0</td>\n",
              "      <td>0.0</td>\n",
              "      <td>5472.0</td>\n",
              "      <td>21.5</td>\n",
              "      <td>13.0</td>\n",
              "      <td>f</td>\n",
              "      <td>INDIVIDUAL</td>\n",
              "      <td>0.0</td>\n",
              "      <td>0.0</td>\n",
              "      <td>823 Reid Ford\\nDelacruzside, MA 00813</td>\n",
              "    </tr>\n",
              "    <tr>\n",
              "      <th>4</th>\n",
              "      <td>24375.0</td>\n",
              "      <td>60 months</td>\n",
              "      <td>17.27</td>\n",
              "      <td>609.33</td>\n",
              "      <td>C</td>\n",
              "      <td>C5</td>\n",
              "      <td>Destiny Management Inc.</td>\n",
              "      <td>9 years</td>\n",
              "      <td>MORTGAGE</td>\n",
              "      <td>55000.0</td>\n",
              "      <td>Verified</td>\n",
              "      <td>Apr-2013</td>\n",
              "      <td>Charged Off</td>\n",
              "      <td>credit_card</td>\n",
              "      <td>Credit Card Refinance</td>\n",
              "      <td>33.95</td>\n",
              "      <td>Mar-1999</td>\n",
              "      <td>13.0</td>\n",
              "      <td>0.0</td>\n",
              "      <td>24584.0</td>\n",
              "      <td>69.8</td>\n",
              "      <td>43.0</td>\n",
              "      <td>f</td>\n",
              "      <td>INDIVIDUAL</td>\n",
              "      <td>1.0</td>\n",
              "      <td>0.0</td>\n",
              "      <td>679 Luna Roads\\nGreggshire, VA 11650</td>\n",
              "    </tr>\n",
              "  </tbody>\n",
              "</table>\n",
              "</div>"
            ],
            "text/plain": [
              "   loan_amnt  ...                                          address\n",
              "0  10000.0    ...  0174 Michelle Gateway\\nMendozaberg, OK 22690   \n",
              "1  8000.0     ...  1076 Carney Fort Apt. 347\\nLoganmouth, SD 05113\n",
              "2  15600.0    ...  87025 Mark Dale Apt. 269\\nNew Sabrina, WV 05113\n",
              "3  7200.0     ...  823 Reid Ford\\nDelacruzside, MA 00813          \n",
              "4  24375.0    ...  679 Luna Roads\\nGreggshire, VA 11650           \n",
              "\n",
              "[5 rows x 27 columns]"
            ]
          },
          "metadata": {
            "tags": []
          },
          "execution_count": 6
        }
      ]
    },
    {
      "cell_type": "code",
      "metadata": {
        "id": "XItuS1vFMb--",
        "outputId": "6f4c9b1a-d5f0-407b-e3bb-407744c5f608",
        "colab": {
          "base_uri": "https://localhost:8080/"
        }
      },
      "source": [
        "df.info()"
      ],
      "execution_count": 7,
      "outputs": [
        {
          "output_type": "stream",
          "text": [
            "<class 'pandas.core.frame.DataFrame'>\n",
            "RangeIndex: 396030 entries, 0 to 396029\n",
            "Data columns (total 27 columns):\n",
            " #   Column                Non-Null Count   Dtype  \n",
            "---  ------                --------------   -----  \n",
            " 0   loan_amnt             396030 non-null  float64\n",
            " 1   term                  396030 non-null  object \n",
            " 2   int_rate              396030 non-null  float64\n",
            " 3   installment           396030 non-null  float64\n",
            " 4   grade                 396030 non-null  object \n",
            " 5   sub_grade             396030 non-null  object \n",
            " 6   emp_title             373103 non-null  object \n",
            " 7   emp_length            377729 non-null  object \n",
            " 8   home_ownership        396030 non-null  object \n",
            " 9   annual_inc            396030 non-null  float64\n",
            " 10  verification_status   396030 non-null  object \n",
            " 11  issue_d               396030 non-null  object \n",
            " 12  loan_status           396030 non-null  object \n",
            " 13  purpose               396030 non-null  object \n",
            " 14  title                 394275 non-null  object \n",
            " 15  dti                   396030 non-null  float64\n",
            " 16  earliest_cr_line      396030 non-null  object \n",
            " 17  open_acc              396030 non-null  float64\n",
            " 18  pub_rec               396030 non-null  float64\n",
            " 19  revol_bal             396030 non-null  float64\n",
            " 20  revol_util            395754 non-null  float64\n",
            " 21  total_acc             396030 non-null  float64\n",
            " 22  initial_list_status   396030 non-null  object \n",
            " 23  application_type      396030 non-null  object \n",
            " 24  mort_acc              358235 non-null  float64\n",
            " 25  pub_rec_bankruptcies  395495 non-null  float64\n",
            " 26  address               396030 non-null  object \n",
            "dtypes: float64(12), object(15)\n",
            "memory usage: 81.6+ MB\n"
          ],
          "name": "stdout"
        }
      ]
    },
    {
      "cell_type": "markdown",
      "metadata": {
        "id": "uDZ-0tn1Mb-_"
      },
      "source": [
        "# #1 Exploratory Data Analysis"
      ]
    },
    {
      "cell_type": "code",
      "metadata": {
        "id": "Cj2FT_lYMb_A",
        "outputId": "bb8fd213-8c41-453a-b78c-43d9181d1546",
        "colab": {
          "base_uri": "https://localhost:8080/",
          "height": 355
        }
      },
      "source": [
        "sb.countplot(df['loan_status'])"
      ],
      "execution_count": 8,
      "outputs": [
        {
          "output_type": "stream",
          "text": [
            "/usr/local/lib/python3.6/dist-packages/seaborn/_decorators.py:43: FutureWarning: Pass the following variable as a keyword arg: x. From version 0.12, the only valid positional argument will be `data`, and passing other arguments without an explicit keyword will result in an error or misinterpretation.\n",
            "  FutureWarning\n"
          ],
          "name": "stderr"
        },
        {
          "output_type": "execute_result",
          "data": {
            "text/plain": [
              "<matplotlib.axes._subplots.AxesSubplot at 0x7febf381a898>"
            ]
          },
          "metadata": {
            "tags": []
          },
          "execution_count": 8
        },
        {
          "output_type": "display_data",
          "data": {
            "image/png": "[encoded data removed]",
            "text/plain": [
              "<Figure size 432x288 with 1 Axes>"
            ]
          },
          "metadata": {
            "tags": [],
            "needs_background": "light"
          }
        }
      ]
    },
    {
      "cell_type": "code",
      "metadata": {
        "id": "dnVxFazFMb_B",
        "outputId": "87d3bd6a-d5d6-4f8d-e412-1813bd54884d",
        "colab": {
          "base_uri": "https://localhost:8080/",
          "height": 410
        }
      },
      "source": [
        "plt.figure(figsize=(15,5))\n",
        "sb.distplot(df['loan_amnt'])"
      ],
      "execution_count": 9,
      "outputs": [
        {
          "output_type": "stream",
          "text": [
            "/usr/local/lib/python3.6/dist-packages/seaborn/distributions.py:2551: FutureWarning: `distplot` is a deprecated function and will be removed in a future version. Please adapt your code to use either `displot` (a figure-level function with similar flexibility) or `histplot` (an axes-level function for histograms).\n",
            "  warnings.warn(msg, FutureWarning)\n"
          ],
          "name": "stderr"
        },
        {
          "output_type": "execute_result",
          "data": {
            "text/plain": [
              "<matplotlib.axes._subplots.AxesSubplot at 0x7febf36b5400>"
            ]
          },
          "metadata": {
            "tags": []
          },
          "execution_count": 9
        },
        {
          "output_type": "display_data",
          "data": {
            "image/png": "[encoded data removed]",
            "text/plain": [
              "<Figure size 1080x360 with 1 Axes>"
            ]
          },
          "metadata": {
            "tags": [],
            "needs_background": "light"
          }
        }
      ]
    },
    {
      "cell_type": "markdown",
      "metadata": {
        "id": "ZrdLKsdgMb_C"
      },
      "source": [
        "><h2>Correlation Analysis</h2>"
      ]
    },
    {
      "cell_type": "code",
      "metadata": {
        "id": "nQNOJeo1Mb_D",
        "outputId": "1775c555-42ce-4437-820c-7f9890b3ed99",
        "colab": {
          "base_uri": "https://localhost:8080/",
          "height": 446
        }
      },
      "source": [
        "df.corr()"
      ],
      "execution_count": 10,
      "outputs": [
        {
          "output_type": "execute_result",
          "data": {
            "text/html": [
              "<div>\n",
              "<style scoped>\n",
              "    .dataframe tbody tr th:only-of-type {\n",
              "        vertical-align: middle;\n",
              "    }\n",
              "\n",
              "    .dataframe tbody tr th {\n",
              "        vertical-align: top;\n",
              "    }\n",
              "\n",
              "    .dataframe thead th {\n",
              "        text-align: right;\n",
              "    }\n",
              "</style>\n",
              "<table border=\"1\" class=\"dataframe\">\n",
              "  <thead>\n",
              "    <tr style=\"text-align: right;\">\n",
              "      <th></th>\n",
              "      <th>loan_amnt</th>\n",
              "      <th>int_rate</th>\n",
              "      <th>installment</th>\n",
              "      <th>annual_inc</th>\n",
              "      <th>dti</th>\n",
              "      <th>open_acc</th>\n",
              "      <th>pub_rec</th>\n",
              "      <th>revol_bal</th>\n",
              "      <th>revol_util</th>\n",
              "      <th>total_acc</th>\n",
              "      <th>mort_acc</th>\n",
              "      <th>pub_rec_bankruptcies</th>\n",
              "    </tr>\n",
              "  </thead>\n",
              "  <tbody>\n",
              "    <tr>\n",
              "      <th>loan_amnt</th>\n",
              "      <td>1.000000</td>\n",
              "      <td>0.168921</td>\n",
              "      <td>0.953929</td>\n",
              "      <td>0.336887</td>\n",
              "      <td>0.016636</td>\n",
              "      <td>0.198556</td>\n",
              "      <td>-0.077779</td>\n",
              "      <td>0.328320</td>\n",
              "      <td>0.099911</td>\n",
              "      <td>0.223886</td>\n",
              "      <td>0.222315</td>\n",
              "      <td>-0.106539</td>\n",
              "    </tr>\n",
              "    <tr>\n",
              "      <th>int_rate</th>\n",
              "      <td>0.168921</td>\n",
              "      <td>1.000000</td>\n",
              "      <td>0.162758</td>\n",
              "      <td>-0.056771</td>\n",
              "      <td>0.079038</td>\n",
              "      <td>0.011649</td>\n",
              "      <td>0.060986</td>\n",
              "      <td>-0.011280</td>\n",
              "      <td>0.293659</td>\n",
              "      <td>-0.036404</td>\n",
              "      <td>-0.082583</td>\n",
              "      <td>0.057450</td>\n",
              "    </tr>\n",
              "    <tr>\n",
              "      <th>installment</th>\n",
              "      <td>0.953929</td>\n",
              "      <td>0.162758</td>\n",
              "      <td>1.000000</td>\n",
              "      <td>0.330381</td>\n",
              "      <td>0.015786</td>\n",
              "      <td>0.188973</td>\n",
              "      <td>-0.067892</td>\n",
              "      <td>0.316455</td>\n",
              "      <td>0.123915</td>\n",
              "      <td>0.202430</td>\n",
              "      <td>0.193694</td>\n",
              "      <td>-0.098628</td>\n",
              "    </tr>\n",
              "    <tr>\n",
              "      <th>annual_inc</th>\n",
              "      <td>0.336887</td>\n",
              "      <td>-0.056771</td>\n",
              "      <td>0.330381</td>\n",
              "      <td>1.000000</td>\n",
              "      <td>-0.081685</td>\n",
              "      <td>0.136150</td>\n",
              "      <td>-0.013720</td>\n",
              "      <td>0.299773</td>\n",
              "      <td>0.027871</td>\n",
              "      <td>0.193023</td>\n",
              "      <td>0.236320</td>\n",
              "      <td>-0.050162</td>\n",
              "    </tr>\n",
              "    <tr>\n",
              "      <th>dti</th>\n",
              "      <td>0.016636</td>\n",
              "      <td>0.079038</td>\n",
              "      <td>0.015786</td>\n",
              "      <td>-0.081685</td>\n",
              "      <td>1.000000</td>\n",
              "      <td>0.136181</td>\n",
              "      <td>-0.017639</td>\n",
              "      <td>0.063571</td>\n",
              "      <td>0.088375</td>\n",
              "      <td>0.102128</td>\n",
              "      <td>-0.025439</td>\n",
              "      <td>-0.014558</td>\n",
              "    </tr>\n",
              "    <tr>\n",
              "      <th>open_acc</th>\n",
              "      <td>0.198556</td>\n",
              "      <td>0.011649</td>\n",
              "      <td>0.188973</td>\n",
              "      <td>0.136150</td>\n",
              "      <td>0.136181</td>\n",
              "      <td>1.000000</td>\n",
              "      <td>-0.018392</td>\n",
              "      <td>0.221192</td>\n",
              "      <td>-0.131420</td>\n",
              "      <td>0.680728</td>\n",
              "      <td>0.109205</td>\n",
              "      <td>-0.027732</td>\n",
              "    </tr>\n",
              "    <tr>\n",
              "      <th>pub_rec</th>\n",
              "      <td>-0.077779</td>\n",
              "      <td>0.060986</td>\n",
              "      <td>-0.067892</td>\n",
              "      <td>-0.013720</td>\n",
              "      <td>-0.017639</td>\n",
              "      <td>-0.018392</td>\n",
              "      <td>1.000000</td>\n",
              "      <td>-0.101664</td>\n",
              "      <td>-0.075910</td>\n",
              "      <td>0.019723</td>\n",
              "      <td>0.011552</td>\n",
              "      <td>0.699408</td>\n",
              "    </tr>\n",
              "    <tr>\n",
              "      <th>revol_bal</th>\n",
              "      <td>0.328320</td>\n",
              "      <td>-0.011280</td>\n",
              "      <td>0.316455</td>\n",
              "      <td>0.299773</td>\n",
              "      <td>0.063571</td>\n",
              "      <td>0.221192</td>\n",
              "      <td>-0.101664</td>\n",
              "      <td>1.000000</td>\n",
              "      <td>0.226346</td>\n",
              "      <td>0.191616</td>\n",
              "      <td>0.194925</td>\n",
              "      <td>-0.124532</td>\n",
              "    </tr>\n",
              "    <tr>\n",
              "      <th>revol_util</th>\n",
              "      <td>0.099911</td>\n",
              "      <td>0.293659</td>\n",
              "      <td>0.123915</td>\n",
              "      <td>0.027871</td>\n",
              "      <td>0.088375</td>\n",
              "      <td>-0.131420</td>\n",
              "      <td>-0.075910</td>\n",
              "      <td>0.226346</td>\n",
              "      <td>1.000000</td>\n",
              "      <td>-0.104273</td>\n",
              "      <td>0.007514</td>\n",
              "      <td>-0.086751</td>\n",
              "    </tr>\n",
              "    <tr>\n",
              "      <th>total_acc</th>\n",
              "      <td>0.223886</td>\n",
              "      <td>-0.036404</td>\n",
              "      <td>0.202430</td>\n",
              "      <td>0.193023</td>\n",
              "      <td>0.102128</td>\n",
              "      <td>0.680728</td>\n",
              "      <td>0.019723</td>\n",
              "      <td>0.191616</td>\n",
              "      <td>-0.104273</td>\n",
              "      <td>1.000000</td>\n",
              "      <td>0.381072</td>\n",
              "      <td>0.042035</td>\n",
              "    </tr>\n",
              "    <tr>\n",
              "      <th>mort_acc</th>\n",
              "      <td>0.222315</td>\n",
              "      <td>-0.082583</td>\n",
              "      <td>0.193694</td>\n",
              "      <td>0.236320</td>\n",
              "      <td>-0.025439</td>\n",
              "      <td>0.109205</td>\n",
              "      <td>0.011552</td>\n",
              "      <td>0.194925</td>\n",
              "      <td>0.007514</td>\n",
              "      <td>0.381072</td>\n",
              "      <td>1.000000</td>\n",
              "      <td>0.027239</td>\n",
              "    </tr>\n",
              "    <tr>\n",
              "      <th>pub_rec_bankruptcies</th>\n",
              "      <td>-0.106539</td>\n",
              "      <td>0.057450</td>\n",
              "      <td>-0.098628</td>\n",
              "      <td>-0.050162</td>\n",
              "      <td>-0.014558</td>\n",
              "      <td>-0.027732</td>\n",
              "      <td>0.699408</td>\n",
              "      <td>-0.124532</td>\n",
              "      <td>-0.086751</td>\n",
              "      <td>0.042035</td>\n",
              "      <td>0.027239</td>\n",
              "      <td>1.000000</td>\n",
              "    </tr>\n",
              "  </tbody>\n",
              "</table>\n",
              "</div>"
            ],
            "text/plain": [
              "                      loan_amnt  int_rate  ...  mort_acc  pub_rec_bankruptcies\n",
              "loan_amnt             1.000000   0.168921  ...  0.222315 -0.106539            \n",
              "int_rate              0.168921   1.000000  ... -0.082583  0.057450            \n",
              "installment           0.953929   0.162758  ...  0.193694 -0.098628            \n",
              "annual_inc            0.336887  -0.056771  ...  0.236320 -0.050162            \n",
              "dti                   0.016636   0.079038  ... -0.025439 -0.014558            \n",
              "open_acc              0.198556   0.011649  ...  0.109205 -0.027732            \n",
              "pub_rec              -0.077779   0.060986  ...  0.011552  0.699408            \n",
              "revol_bal             0.328320  -0.011280  ...  0.194925 -0.124532            \n",
              "revol_util            0.099911   0.293659  ...  0.007514 -0.086751            \n",
              "total_acc             0.223886  -0.036404  ...  0.381072  0.042035            \n",
              "mort_acc              0.222315  -0.082583  ...  1.000000  0.027239            \n",
              "pub_rec_bankruptcies -0.106539   0.057450  ...  0.027239  1.000000            \n",
              "\n",
              "[12 rows x 12 columns]"
            ]
          },
          "metadata": {
            "tags": []
          },
          "execution_count": 10
        }
      ]
    },
    {
      "cell_type": "markdown",
      "metadata": {
        "id": "EsdrJkvFMb_F"
      },
      "source": [
        ">Using heat map to visualize our correlation."
      ]
    },
    {
      "cell_type": "code",
      "metadata": {
        "id": "3WIKKZVVMb_F",
        "outputId": "94ac6ecf-3df4-4b9d-be07-100869c6f9fe",
        "colab": {
          "base_uri": "https://localhost:8080/",
          "height": 713
        }
      },
      "source": [
        "plt.figure(figsize=(13,10))\n",
        "sb.heatmap(df.corr(), annot=True)"
      ],
      "execution_count": 11,
      "outputs": [
        {
          "output_type": "execute_result",
          "data": {
            "text/plain": [
              "<matplotlib.axes._subplots.AxesSubplot at 0x7febef6abeb8>"
            ]
          },
          "metadata": {
            "tags": []
          },
          "execution_count": 11
        },
        {
          "output_type": "display_data",
          "data": {
            "image/png": "[encoded data removed]",
            "text/plain": [
              "<Figure size 936x720 with 2 Axes>"
            ]
          },
          "metadata": {
            "tags": [],
            "needs_background": "light"
          }
        }
      ]
    },
    {
      "cell_type": "markdown",
      "metadata": {
        "id": "h1p5QKfuMb_F"
      },
      "source": [
        "Installment have almost perfect correlation with the data.\n",
        ">Exploring **Installment** feature to check if make sense more than this."
      ]
    },
    {
      "cell_type": "code",
      "metadata": {
        "id": "YQqCxT_kMb_G",
        "outputId": "9963651a-b214-4c04-caf6-16d849132bd7",
        "colab": {
          "base_uri": "https://localhost:8080/",
          "height": 36
        }
      },
      "source": [
        "feat_info('installment')"
      ],
      "execution_count": 12,
      "outputs": [
        {
          "output_type": "execute_result",
          "data": {
            "application/vnd.google.colaboratory.intrinsic+json": {
              "type": "string"
            },
            "text/plain": [
              "'installment in our table refers to the The monthly payment owed by the borrower if the loan originates.'"
            ]
          },
          "metadata": {
            "tags": []
          },
          "execution_count": 12
        }
      ]
    },
    {
      "cell_type": "code",
      "metadata": {
        "id": "D4pkiBFbMb_H",
        "outputId": "de24461e-5cb3-4f29-80e4-a5ab0e752442",
        "colab": {
          "base_uri": "https://localhost:8080/",
          "height": 54
        }
      },
      "source": [
        "feat_info('loan_amnt')"
      ],
      "execution_count": 13,
      "outputs": [
        {
          "output_type": "execute_result",
          "data": {
            "application/vnd.google.colaboratory.intrinsic+json": {
              "type": "string"
            },
            "text/plain": [
              "'loan_amnt in our table refers to the The listed amount of the loan applied for by the borrower. If at some point in time, the credit department reduces the loan amount, then it will be reflected in this value.'"
            ]
          },
          "metadata": {
            "tags": []
          },
          "execution_count": 13
        }
      ]
    },
    {
      "cell_type": "markdown",
      "metadata": {
        "id": "tAn9u4lgMb_H"
      },
      "source": [
        "---"
      ]
    },
    {
      "cell_type": "code",
      "metadata": {
        "id": "thqj3SdtMb_H",
        "outputId": "c18054fe-c239-455d-f0ac-900b82b0ce68",
        "colab": {
          "base_uri": "https://localhost:8080/",
          "height": 463
        }
      },
      "source": [
        "plt.figure(figsize=(9,6))\n",
        "sb.scatterplot('installment', 'loan_amnt', data=df)"
      ],
      "execution_count": 14,
      "outputs": [
        {
          "output_type": "stream",
          "text": [
            "/usr/local/lib/python3.6/dist-packages/seaborn/_decorators.py:43: FutureWarning: Pass the following variables as keyword args: x, y. From version 0.12, the only valid positional argument will be `data`, and passing other arguments without an explicit keyword will result in an error or misinterpretation.\n",
            "  FutureWarning\n"
          ],
          "name": "stderr"
        },
        {
          "output_type": "execute_result",
          "data": {
            "text/plain": [
              "<matplotlib.axes._subplots.AxesSubplot at 0x7febef5fa208>"
            ]
          },
          "metadata": {
            "tags": []
          },
          "execution_count": 14
        },
        {
          "output_type": "display_data",
          "data": {
            "image/png": "[encoded data removed]",
            "text/plain": [
              "<Figure size 648x432 with 1 Axes>"
            ]
          },
          "metadata": {
            "tags": [],
            "needs_background": "light"
          }
        }
      ]
    },
    {
      "cell_type": "code",
      "metadata": {
        "id": "l2mcVIQiMb_I",
        "outputId": "43ea844b-9ed0-4ca4-a468-38e1785526d9",
        "colab": {
          "base_uri": "https://localhost:8080/",
          "height": 463
        }
      },
      "source": [
        "plt.figure(figsize=(9,6))\n",
        "sb.scatterplot('installment', 'loan_amnt', data=df, hue='int_rate')"
      ],
      "execution_count": 15,
      "outputs": [
        {
          "output_type": "stream",
          "text": [
            "/usr/local/lib/python3.6/dist-packages/seaborn/_decorators.py:43: FutureWarning: Pass the following variables as keyword args: x, y. From version 0.12, the only valid positional argument will be `data`, and passing other arguments without an explicit keyword will result in an error or misinterpretation.\n",
            "  FutureWarning\n"
          ],
          "name": "stderr"
        },
        {
          "output_type": "execute_result",
          "data": {
            "text/plain": [
              "<matplotlib.axes._subplots.AxesSubplot at 0x7febedc3b7b8>"
            ]
          },
          "metadata": {
            "tags": []
          },
          "execution_count": 15
        },
        {
          "output_type": "display_data",
          "data": {
            "image/png": "[encoded data removed]",
            "text/plain": [
              "<Figure size 648x432 with 1 Axes>"
            ]
          },
          "metadata": {
            "tags": [],
            "needs_background": "light"
          }
        }
      ]
    },
    {
      "cell_type": "code",
      "metadata": {
        "id": "WqQ-ijEUMb_J"
      },
      "source": [
        "#sb.scatterplot('installment', 'term', data=df, hue='int_rate')"
      ],
      "execution_count": 16,
      "outputs": []
    },
    {
      "cell_type": "code",
      "metadata": {
        "id": "-fSQh2WGMb_J",
        "outputId": "51f2fede-d3e5-444a-ecbb-e2bfd2f5d23c",
        "colab": {
          "base_uri": "https://localhost:8080/",
          "height": 464
        }
      },
      "source": [
        "plt.figure(figsize=(9,6))\n",
        "sb.boxplot('loan_status', 'loan_amnt', data=df)"
      ],
      "execution_count": 17,
      "outputs": [
        {
          "output_type": "stream",
          "text": [
            "/usr/local/lib/python3.6/dist-packages/seaborn/_decorators.py:43: FutureWarning: Pass the following variables as keyword args: x, y. From version 0.12, the only valid positional argument will be `data`, and passing other arguments without an explicit keyword will result in an error or misinterpretation.\n",
            "  FutureWarning\n"
          ],
          "name": "stderr"
        },
        {
          "output_type": "execute_result",
          "data": {
            "text/plain": [
              "<matplotlib.axes._subplots.AxesSubplot at 0x7febedc0e978>"
            ]
          },
          "metadata": {
            "tags": []
          },
          "execution_count": 17
        },
        {
          "output_type": "display_data",
          "data": {
            "image/png": "[encoded data removed]",
            "text/plain": [
              "<Figure size 648x432 with 1 Axes>"
            ]
          },
          "metadata": {
            "tags": [],
            "needs_background": "light"
          }
        }
      ]
    },
    {
      "cell_type": "code",
      "metadata": {
        "id": "dp-2KPqYMb_K",
        "outputId": "a4f08eba-c832-4e52-820a-0d5acb8f8b72",
        "colab": {
          "base_uri": "https://localhost:8080/",
          "height": 143
        }
      },
      "source": [
        "df.groupby('loan_status')['loan_amnt'].describe()"
      ],
      "execution_count": 18,
      "outputs": [
        {
          "output_type": "execute_result",
          "data": {
            "text/html": [
              "<div>\n",
              "<style scoped>\n",
              "    .dataframe tbody tr th:only-of-type {\n",
              "        vertical-align: middle;\n",
              "    }\n",
              "\n",
              "    .dataframe tbody tr th {\n",
              "        vertical-align: top;\n",
              "    }\n",
              "\n",
              "    .dataframe thead th {\n",
              "        text-align: right;\n",
              "    }\n",
              "</style>\n",
              "<table border=\"1\" class=\"dataframe\">\n",
              "  <thead>\n",
              "    <tr style=\"text-align: right;\">\n",
              "      <th></th>\n",
              "      <th>count</th>\n",
              "      <th>mean</th>\n",
              "      <th>std</th>\n",
              "      <th>min</th>\n",
              "      <th>25%</th>\n",
              "      <th>50%</th>\n",
              "      <th>75%</th>\n",
              "      <th>max</th>\n",
              "    </tr>\n",
              "    <tr>\n",
              "      <th>loan_status</th>\n",
              "      <th></th>\n",
              "      <th></th>\n",
              "      <th></th>\n",
              "      <th></th>\n",
              "      <th></th>\n",
              "      <th></th>\n",
              "      <th></th>\n",
              "      <th></th>\n",
              "    </tr>\n",
              "  </thead>\n",
              "  <tbody>\n",
              "    <tr>\n",
              "      <th>Charged Off</th>\n",
              "      <td>77673.0</td>\n",
              "      <td>15126.300967</td>\n",
              "      <td>8505.090557</td>\n",
              "      <td>1000.0</td>\n",
              "      <td>8525.0</td>\n",
              "      <td>14000.0</td>\n",
              "      <td>20000.0</td>\n",
              "      <td>40000.0</td>\n",
              "    </tr>\n",
              "    <tr>\n",
              "      <th>Fully Paid</th>\n",
              "      <td>318357.0</td>\n",
              "      <td>13866.878771</td>\n",
              "      <td>8302.319699</td>\n",
              "      <td>500.0</td>\n",
              "      <td>7500.0</td>\n",
              "      <td>12000.0</td>\n",
              "      <td>19225.0</td>\n",
              "      <td>40000.0</td>\n",
              "    </tr>\n",
              "  </tbody>\n",
              "</table>\n",
              "</div>"
            ],
            "text/plain": [
              "                count          mean          std  ...      50%      75%      max\n",
              "loan_status                                       ...                           \n",
              "Charged Off  77673.0   15126.300967  8505.090557  ...  14000.0  20000.0  40000.0\n",
              "Fully Paid   318357.0  13866.878771  8302.319699  ...  12000.0  19225.0  40000.0\n",
              "\n",
              "[2 rows x 8 columns]"
            ]
          },
          "metadata": {
            "tags": []
          },
          "execution_count": 18
        }
      ]
    },
    {
      "cell_type": "code",
      "metadata": {
        "id": "mAn4qmCvMb_K",
        "outputId": "dc9d674c-779d-4f38-bdeb-0967cc6ad931",
        "colab": {
          "base_uri": "https://localhost:8080/"
        }
      },
      "source": [
        "sorted(df['grade'].unique())"
      ],
      "execution_count": 19,
      "outputs": [
        {
          "output_type": "execute_result",
          "data": {
            "text/plain": [
              "['A', 'B', 'C', 'D', 'E', 'F', 'G']"
            ]
          },
          "metadata": {
            "tags": []
          },
          "execution_count": 19
        }
      ]
    },
    {
      "cell_type": "code",
      "metadata": {
        "id": "jdJbgYjzMb_M",
        "outputId": "e330198c-3397-44ac-b1be-593e692d197d",
        "colab": {
          "base_uri": "https://localhost:8080/"
        }
      },
      "source": [
        "sorted(df['sub_grade'].unique().astype(str))"
      ],
      "execution_count": 20,
      "outputs": [
        {
          "output_type": "execute_result",
          "data": {
            "text/plain": [
              "['A1',\n",
              " 'A2',\n",
              " 'A3',\n",
              " 'A4',\n",
              " 'A5',\n",
              " 'B1',\n",
              " 'B2',\n",
              " 'B3',\n",
              " 'B4',\n",
              " 'B5',\n",
              " 'C1',\n",
              " 'C2',\n",
              " 'C3',\n",
              " 'C4',\n",
              " 'C5',\n",
              " 'D1',\n",
              " 'D2',\n",
              " 'D3',\n",
              " 'D4',\n",
              " 'D5',\n",
              " 'E1',\n",
              " 'E2',\n",
              " 'E3',\n",
              " 'E4',\n",
              " 'E5',\n",
              " 'F1',\n",
              " 'F2',\n",
              " 'F3',\n",
              " 'F4',\n",
              " 'F5',\n",
              " 'G1',\n",
              " 'G2',\n",
              " 'G3',\n",
              " 'G4',\n",
              " 'G5']"
            ]
          },
          "metadata": {
            "tags": []
          },
          "execution_count": 20
        }
      ]
    },
    {
      "cell_type": "code",
      "metadata": {
        "id": "bYy_sRJmMb_M",
        "outputId": "623b1d3f-c259-4ee4-fc6c-c4bc00b43331",
        "colab": {
          "base_uri": "https://localhost:8080/",
          "height": 463
        }
      },
      "source": [
        "plt.figure(figsize=(9,6))\n",
        "sb.countplot('grade', hue='loan_status',data=df, palette='rocket', order=sorted(df['grade'].unique()))"
      ],
      "execution_count": 21,
      "outputs": [
        {
          "output_type": "stream",
          "text": [
            "/usr/local/lib/python3.6/dist-packages/seaborn/_decorators.py:43: FutureWarning: Pass the following variable as a keyword arg: x. From version 0.12, the only valid positional argument will be `data`, and passing other arguments without an explicit keyword will result in an error or misinterpretation.\n",
            "  FutureWarning\n"
          ],
          "name": "stderr"
        },
        {
          "output_type": "execute_result",
          "data": {
            "text/plain": [
              "<matplotlib.axes._subplots.AxesSubplot at 0x7febebcbf390>"
            ]
          },
          "metadata": {
            "tags": []
          },
          "execution_count": 21
        },
        {
          "output_type": "display_data",
          "data": {
            "image/png": "[encoded data removed]",
            "text/plain": [
              "<Figure size 648x432 with 1 Axes>"
            ]
          },
          "metadata": {
            "tags": [],
            "needs_background": "light"
          }
        }
      ]
    },
    {
      "cell_type": "code",
      "metadata": {
        "id": "pV-h_OYoMb_N",
        "outputId": "f09aea15-b306-435d-9a56-332823df99c1",
        "colab": {
          "base_uri": "https://localhost:8080/",
          "height": 464
        }
      },
      "source": [
        "plt.figure(figsize=(18,6))\n",
        "sb.countplot('sub_grade', hue='loan_status',data=df, palette='viridis', order=sorted(df['sub_grade'].unique().astype(str)))"
      ],
      "execution_count": 22,
      "outputs": [
        {
          "output_type": "stream",
          "text": [
            "/usr/local/lib/python3.6/dist-packages/seaborn/_decorators.py:43: FutureWarning: Pass the following variable as a keyword arg: x. From version 0.12, the only valid positional argument will be `data`, and passing other arguments without an explicit keyword will result in an error or misinterpretation.\n",
            "  FutureWarning\n"
          ],
          "name": "stderr"
        },
        {
          "output_type": "execute_result",
          "data": {
            "text/plain": [
              "<matplotlib.axes._subplots.AxesSubplot at 0x7febedb76828>"
            ]
          },
          "metadata": {
            "tags": []
          },
          "execution_count": 22
        },
        {
          "output_type": "display_data",
          "data": {
            "image/png": "[encoded data removed]",
            "text/plain": [
              "<Figure size 1296x432 with 1 Axes>"
            ]
          },
          "metadata": {
            "tags": [],
            "needs_background": "light"
          }
        }
      ]
    },
    {
      "cell_type": "markdown",
      "metadata": {
        "id": "OisbdCIXMb_N"
      },
      "source": [
        "> Looks like F and G grade doesn't get paid back that often."
      ]
    },
    {
      "cell_type": "code",
      "metadata": {
        "id": "o5liGwDZMb_O",
        "outputId": "419cc8c0-edf1-4a66-ee9b-b87aa0b7a79f",
        "colab": {
          "base_uri": "https://localhost:8080/",
          "height": 464
        }
      },
      "source": [
        "f_and_g_df = df[(df['grade']=='G')|(df['grade']=='F')]\n",
        "\n",
        "plt.figure(figsize=(18,6))\n",
        "sb.countplot('sub_grade', hue='loan_status',data=f_and_g_df, palette='viridis', order=sorted(f_and_g_df['sub_grade'].unique().astype(str)))"
      ],
      "execution_count": 23,
      "outputs": [
        {
          "output_type": "stream",
          "text": [
            "/usr/local/lib/python3.6/dist-packages/seaborn/_decorators.py:43: FutureWarning: Pass the following variable as a keyword arg: x. From version 0.12, the only valid positional argument will be `data`, and passing other arguments without an explicit keyword will result in an error or misinterpretation.\n",
            "  FutureWarning\n"
          ],
          "name": "stderr"
        },
        {
          "output_type": "execute_result",
          "data": {
            "text/plain": [
              "<matplotlib.axes._subplots.AxesSubplot at 0x7febedb4de80>"
            ]
          },
          "metadata": {
            "tags": []
          },
          "execution_count": 23
        },
        {
          "output_type": "display_data",
          "data": {
            "image/png": "[encoded data removed]",
            "text/plain": [
              "<Figure size 1296x432 with 1 Axes>"
            ]
          },
          "metadata": {
            "tags": [],
            "needs_background": "light"
          }
        }
      ]
    },
    {
      "cell_type": "markdown",
      "metadata": {
        "id": "4rGziF2rMb_O"
      },
      "source": [
        "><h3> Let's analyze loan_status </h3> </br>\n",
        "\n",
        ">Remapping loan_status categorical column to loan_repaid"
      ]
    },
    {
      "cell_type": "code",
      "metadata": {
        "id": "72bdvPmWMb_O"
      },
      "source": [
        "df['loan_repaid'] = df['loan_status'].map({'Fully Paid':1, 'Charged Off':0})"
      ],
      "execution_count": 24,
      "outputs": []
    },
    {
      "cell_type": "code",
      "metadata": {
        "id": "1pdEMy_VMb_P"
      },
      "source": [
        "df.drop('loan_status', axis=1, inplace=True)"
      ],
      "execution_count": 25,
      "outputs": []
    },
    {
      "cell_type": "code",
      "metadata": {
        "id": "iSe1TIUvMb_P",
        "outputId": "35fa250f-b178-493c-9b34-34dfd591dc21",
        "colab": {
          "base_uri": "https://localhost:8080/"
        }
      },
      "source": [
        "df.corr()['loan_repaid'].sort_values(ascending=False)"
      ],
      "execution_count": 26,
      "outputs": [
        {
          "output_type": "execute_result",
          "data": {
            "text/plain": [
              "loan_repaid             1.000000\n",
              "mort_acc                0.073111\n",
              "annual_inc              0.053432\n",
              "total_acc               0.017893\n",
              "revol_bal               0.010892\n",
              "pub_rec_bankruptcies   -0.009383\n",
              "pub_rec                -0.019933\n",
              "open_acc               -0.028012\n",
              "installment            -0.041082\n",
              "loan_amnt              -0.059836\n",
              "dti                    -0.062413\n",
              "revol_util             -0.082373\n",
              "int_rate               -0.247758\n",
              "Name: loan_repaid, dtype: float64"
            ]
          },
          "metadata": {
            "tags": []
          },
          "execution_count": 26
        }
      ]
    },
    {
      "cell_type": "markdown",
      "metadata": {
        "id": "idrxhH2iMb_Q"
      },
      "source": [
        "> **mort_acc has the highest positive correlation with the loan_status whereas int_rate have the highest negative correlation**"
      ]
    },
    {
      "cell_type": "code",
      "metadata": {
        "id": "JVb8b3w-Mb_Q",
        "outputId": "402a9ff4-f2da-4fac-b439-dbdf6284e539",
        "colab": {
          "base_uri": "https://localhost:8080/"
        }
      },
      "source": [
        "print(feat_info('mort_acc'))\n",
        "print(feat_info('int_rate'))"
      ],
      "execution_count": 27,
      "outputs": [
        {
          "output_type": "stream",
          "text": [
            "mort_acc in our table refers to the Number of mortgage accounts.\n",
            "int_rate in our table refers to the Interest Rate on the loan\n"
          ],
          "name": "stdout"
        }
      ]
    },
    {
      "cell_type": "code",
      "metadata": {
        "id": "iAoSbfjhMb_Q",
        "outputId": "d9c18458-0880-4762-d3cd-bf20f4b51b98",
        "colab": {
          "base_uri": "https://localhost:8080/",
          "height": 491
        }
      },
      "source": [
        "plt.figure(figsize=(9,6))\n",
        "df.corr()['loan_repaid'].sort_values()[:-1].plot(kind='bar')"
      ],
      "execution_count": 28,
      "outputs": [
        {
          "output_type": "execute_result",
          "data": {
            "text/plain": [
              "<matplotlib.axes._subplots.AxesSubplot at 0x7febedaa8ef0>"
            ]
          },
          "metadata": {
            "tags": []
          },
          "execution_count": 28
        },
        {
          "output_type": "display_data",
          "data": {
            "image/png": "[encoded data removed]",
            "text/plain": [
              "<Figure size 648x432 with 1 Axes>"
            ]
          },
          "metadata": {
            "tags": [],
            "needs_background": "light"
          }
        }
      ]
    },
    {
      "cell_type": "markdown",
      "metadata": {
        "id": "7EH-EH9_Mb_R"
      },
      "source": [
        "---\n",
        "---"
      ]
    },
    {
      "cell_type": "markdown",
      "metadata": {
        "id": "gCIILZUwMb_S"
      },
      "source": [
        "# #2 Data Preprocessing"
      ]
    },
    {
      "cell_type": "code",
      "metadata": {
        "id": "I4h7tZlUMb_S",
        "outputId": "665f540b-e9fe-4012-d012-415c26fe5fa3",
        "colab": {
          "base_uri": "https://localhost:8080/"
        }
      },
      "source": [
        "df.isna().sum()"
      ],
      "execution_count": 29,
      "outputs": [
        {
          "output_type": "execute_result",
          "data": {
            "text/plain": [
              "loan_amnt               0    \n",
              "term                    0    \n",
              "int_rate                0    \n",
              "installment             0    \n",
              "grade                   0    \n",
              "sub_grade               0    \n",
              "emp_title               22927\n",
              "emp_length              18301\n",
              "home_ownership          0    \n",
              "annual_inc              0    \n",
              "verification_status     0    \n",
              "issue_d                 0    \n",
              "purpose                 0    \n",
              "title                   1755 \n",
              "dti                     0    \n",
              "earliest_cr_line        0    \n",
              "open_acc                0    \n",
              "pub_rec                 0    \n",
              "revol_bal               0    \n",
              "revol_util              276  \n",
              "total_acc               0    \n",
              "initial_list_status     0    \n",
              "application_type        0    \n",
              "mort_acc                37795\n",
              "pub_rec_bankruptcies    535  \n",
              "address                 0    \n",
              "loan_repaid             0    \n",
              "dtype: int64"
            ]
          },
          "metadata": {
            "tags": []
          },
          "execution_count": 29
        }
      ]
    },
    {
      "cell_type": "code",
      "metadata": {
        "id": "R2XY6V3xMb_S",
        "outputId": "aba4552e-1d51-4d94-c7e9-eba0d48db92f",
        "colab": {
          "base_uri": "https://localhost:8080/"
        }
      },
      "source": [
        "100* df.isna().sum()/len(df)"
      ],
      "execution_count": 30,
      "outputs": [
        {
          "output_type": "execute_result",
          "data": {
            "text/plain": [
              "loan_amnt               0.000000\n",
              "term                    0.000000\n",
              "int_rate                0.000000\n",
              "installment             0.000000\n",
              "grade                   0.000000\n",
              "sub_grade               0.000000\n",
              "emp_title               5.789208\n",
              "emp_length              4.621115\n",
              "home_ownership          0.000000\n",
              "annual_inc              0.000000\n",
              "verification_status     0.000000\n",
              "issue_d                 0.000000\n",
              "purpose                 0.000000\n",
              "title                   0.443148\n",
              "dti                     0.000000\n",
              "earliest_cr_line        0.000000\n",
              "open_acc                0.000000\n",
              "pub_rec                 0.000000\n",
              "revol_bal               0.000000\n",
              "revol_util              0.069692\n",
              "total_acc               0.000000\n",
              "initial_list_status     0.000000\n",
              "application_type        0.000000\n",
              "mort_acc                9.543469\n",
              "pub_rec_bankruptcies    0.135091\n",
              "address                 0.000000\n",
              "loan_repaid             0.000000\n",
              "dtype: float64"
            ]
          },
          "metadata": {
            "tags": []
          },
          "execution_count": 30
        }
      ]
    },
    {
      "cell_type": "markdown",
      "metadata": {
        "id": "IHdGc0BPMb_T"
      },
      "source": [
        ">We have emp_title and emp_length with 5 and 4 percentage of missing data respectively.<br>\n",
        ">Checking if we can drop them from the dataframe.<br>\n",
        "\n",
        ">**emp_title**"
      ]
    },
    {
      "cell_type": "code",
      "metadata": {
        "id": "mmAez9wEMb_T",
        "outputId": "7ac1eba9-1337-4da0-cdd1-ed79113db7c5",
        "colab": {
          "base_uri": "https://localhost:8080/"
        }
      },
      "source": [
        "df['emp_title']"
      ],
      "execution_count": 31,
      "outputs": [
        {
          "output_type": "execute_result",
          "data": {
            "text/plain": [
              "0         Marketing               \n",
              "1         Credit analyst          \n",
              "2         Statistician            \n",
              "3         Client Advocate         \n",
              "4         Destiny Management Inc. \n",
              "                   ...            \n",
              "396025    licensed bankere        \n",
              "396026    Agent                   \n",
              "396027    City Carrier            \n",
              "396028    Gracon Services, Inc    \n",
              "396029    Internal Revenue Service\n",
              "Name: emp_title, Length: 396030, dtype: object"
            ]
          },
          "metadata": {
            "tags": []
          },
          "execution_count": 31
        }
      ]
    },
    {
      "cell_type": "code",
      "metadata": {
        "id": "xFumciB_Mb_U",
        "outputId": "cf1f63a2-d2f8-4f59-bcf2-6eb1f1f745e8",
        "colab": {
          "base_uri": "https://localhost:8080/"
        }
      },
      "source": [
        "df['emp_title'].nunique()"
      ],
      "execution_count": 32,
      "outputs": [
        {
          "output_type": "execute_result",
          "data": {
            "text/plain": [
              "173105"
            ]
          },
          "metadata": {
            "tags": []
          },
          "execution_count": 32
        }
      ]
    },
    {
      "cell_type": "code",
      "metadata": {
        "id": "3L4kmfbEMb_V",
        "outputId": "d84271d8-0f40-427c-802b-e00991cbcd12",
        "colab": {
          "base_uri": "https://localhost:8080/"
        }
      },
      "source": [
        "df['emp_title'].value_counts()"
      ],
      "execution_count": 33,
      "outputs": [
        {
          "output_type": "execute_result",
          "data": {
            "text/plain": [
              "Teacher                                4389\n",
              "Manager                                4250\n",
              "Registered Nurse                       1856\n",
              "RN                                     1846\n",
              "Supervisor                             1830\n",
              "                                       ... \n",
              "Travis Central Appraisal District      1   \n",
              "Early Childhood Services Director      1   \n",
              "iT Specialist                          1   \n",
              "Heartland Post Hospitalization Care    1   \n",
              "affordable spiral stairs               1   \n",
              "Name: emp_title, Length: 173105, dtype: int64"
            ]
          },
          "metadata": {
            "tags": []
          },
          "execution_count": 33
        }
      ]
    },
    {
      "cell_type": "markdown",
      "metadata": {
        "id": "ca8hfLS1Mb_V"
      },
      "source": [
        "**Realistically there are too many unique job titles to try to convert this to a dummy variable feature. Removing emp_title column.**"
      ]
    },
    {
      "cell_type": "code",
      "metadata": {
        "id": "1-f0PJOrMb_V"
      },
      "source": [
        "df.drop('emp_title', axis=1, inplace=True)"
      ],
      "execution_count": 34,
      "outputs": []
    },
    {
      "cell_type": "markdown",
      "metadata": {
        "id": "wEniVB2kMb_V"
      },
      "source": [
        "> **emp_length**"
      ]
    },
    {
      "cell_type": "code",
      "metadata": {
        "id": "tLtErk1gMb_W",
        "outputId": "82c9e599-f475-4d16-d321-f1db9d31fe5f",
        "colab": {
          "base_uri": "https://localhost:8080/"
        }
      },
      "source": [
        "df['emp_length']"
      ],
      "execution_count": 35,
      "outputs": [
        {
          "output_type": "execute_result",
          "data": {
            "text/plain": [
              "0         10+ years\n",
              "1         4 years  \n",
              "2         < 1 year \n",
              "3         6 years  \n",
              "4         9 years  \n",
              "           ...     \n",
              "396025    2 years  \n",
              "396026    5 years  \n",
              "396027    10+ years\n",
              "396028    10+ years\n",
              "396029    10+ years\n",
              "Name: emp_length, Length: 396030, dtype: object"
            ]
          },
          "metadata": {
            "tags": []
          },
          "execution_count": 35
        }
      ]
    },
    {
      "cell_type": "code",
      "metadata": {
        "id": "PRPFuuYrMb_W",
        "outputId": "68417d0a-fd57-4dd1-f2df-eb1a55433339",
        "colab": {
          "base_uri": "https://localhost:8080/"
        }
      },
      "source": [
        "sorted(df['emp_length'].dropna().unique())"
      ],
      "execution_count": 36,
      "outputs": [
        {
          "output_type": "execute_result",
          "data": {
            "text/plain": [
              "['1 year',\n",
              " '10+ years',\n",
              " '2 years',\n",
              " '3 years',\n",
              " '4 years',\n",
              " '5 years',\n",
              " '6 years',\n",
              " '7 years',\n",
              " '8 years',\n",
              " '9 years',\n",
              " '< 1 year']"
            ]
          },
          "metadata": {
            "tags": []
          },
          "execution_count": 36
        }
      ]
    },
    {
      "cell_type": "code",
      "metadata": {
        "id": "3PA0e1V9Mb_X"
      },
      "source": [
        "emp_length_order = [ '< 1 year',\n",
        "                      '1 year',\n",
        "                     '2 years',\n",
        "                     '3 years',\n",
        "                     '4 years',\n",
        "                     '5 years',\n",
        "                     '6 years',\n",
        "                     '7 years',\n",
        "                     '8 years',\n",
        "                     '9 years',\n",
        "                     '10+ years']"
      ],
      "execution_count": 37,
      "outputs": []
    },
    {
      "cell_type": "code",
      "metadata": {
        "id": "eD0LtM-5Mb_Y",
        "outputId": "8f8ec61f-2c83-4e68-a987-ad0e5f5ea844",
        "colab": {
          "base_uri": "https://localhost:8080/",
          "height": 464
        }
      },
      "source": [
        "plt.figure(figsize=(18,6))\n",
        "sb.countplot('emp_length', data=df, order=emp_length_order)"
      ],
      "execution_count": 38,
      "outputs": [
        {
          "output_type": "stream",
          "text": [
            "/usr/local/lib/python3.6/dist-packages/seaborn/_decorators.py:43: FutureWarning: Pass the following variable as a keyword arg: x. From version 0.12, the only valid positional argument will be `data`, and passing other arguments without an explicit keyword will result in an error or misinterpretation.\n",
            "  FutureWarning\n"
          ],
          "name": "stderr"
        },
        {
          "output_type": "execute_result",
          "data": {
            "text/plain": [
              "<matplotlib.axes._subplots.AxesSubplot at 0x7febed7fbf98>"
            ]
          },
          "metadata": {
            "tags": []
          },
          "execution_count": 38
        },
        {
          "output_type": "display_data",
          "data": {
            "image/png": "[encoded data removed]",
            "text/plain": [
              "<Figure size 1296x432 with 1 Axes>"
            ]
          },
          "metadata": {
            "tags": [],
            "needs_background": "light"
          }
        }
      ]
    },
    {
      "cell_type": "code",
      "metadata": {
        "id": "JqdxZ8dlMb_Y",
        "outputId": "0a5abd84-d507-44cd-fb36-8b189076317f",
        "colab": {
          "base_uri": "https://localhost:8080/",
          "height": 464
        }
      },
      "source": [
        "plt.figure(figsize=(18,6))\n",
        "sb.countplot('emp_length', data=df, order=emp_length_order, hue='loan_repaid')"
      ],
      "execution_count": 39,
      "outputs": [
        {
          "output_type": "stream",
          "text": [
            "/usr/local/lib/python3.6/dist-packages/seaborn/_decorators.py:43: FutureWarning: Pass the following variable as a keyword arg: x. From version 0.12, the only valid positional argument will be `data`, and passing other arguments without an explicit keyword will result in an error or misinterpretation.\n",
            "  FutureWarning\n"
          ],
          "name": "stderr"
        },
        {
          "output_type": "execute_result",
          "data": {
            "text/plain": [
              "<matplotlib.axes._subplots.AxesSubplot at 0x7febed8a65c0>"
            ]
          },
          "metadata": {
            "tags": []
          },
          "execution_count": 39
        },
        {
          "output_type": "display_data",
          "data": {
            "image/png": "[encoded data removed]",
            "text/plain": [
              "<Figure size 1296x432 with 1 Axes>"
            ]
          },
          "metadata": {
            "tags": [],
            "needs_background": "light"
          }
        }
      ]
    },
    {
      "cell_type": "markdown",
      "metadata": {
        "id": "ZFhlbGMPMb_Z"
      },
      "source": [
        ">Calculating charge off percetage per category."
      ]
    },
    {
      "cell_type": "code",
      "metadata": {
        "id": "rc10grONMb_Z"
      },
      "source": [
        "emp_len = df[df['loan_repaid']==0].groupby('emp_length').count()['loan_amnt'] / df[df['loan_repaid']==1].groupby('emp_length').count()['loan_amnt']"
      ],
      "execution_count": 40,
      "outputs": []
    },
    {
      "cell_type": "code",
      "metadata": {
        "id": "03mIatDkMb_Z",
        "outputId": "55ba02e1-72d4-430d-b87c-f8992ae05a74",
        "colab": {
          "base_uri": "https://localhost:8080/"
        }
      },
      "source": [
        "emp_len"
      ],
      "execution_count": 41,
      "outputs": [
        {
          "output_type": "execute_result",
          "data": {
            "text/plain": [
              "emp_length\n",
              "1 year       0.248649\n",
              "10+ years    0.225770\n",
              "2 years      0.239560\n",
              "3 years      0.242593\n",
              "4 years      0.238213\n",
              "5 years      0.237911\n",
              "6 years      0.233341\n",
              "7 years      0.241887\n",
              "8 years      0.249625\n",
              "9 years      0.250735\n",
              "< 1 year     0.260830\n",
              "Name: loan_amnt, dtype: float64"
            ]
          },
          "metadata": {
            "tags": []
          },
          "execution_count": 41
        }
      ]
    },
    {
      "cell_type": "code",
      "metadata": {
        "id": "1Kv457HSMb_a",
        "outputId": "e86c558f-8b58-4af4-ebc6-f5167b96193d",
        "colab": {
          "base_uri": "https://localhost:8080/",
          "height": 449
        }
      },
      "source": [
        "plt.figure(figsize=(9,6))\n",
        "emp_len.plot(kind='bar')"
      ],
      "execution_count": 42,
      "outputs": [
        {
          "output_type": "execute_result",
          "data": {
            "text/plain": [
              "<matplotlib.axes._subplots.AxesSubplot at 0x7febed6e59b0>"
            ]
          },
          "metadata": {
            "tags": []
          },
          "execution_count": 42
        },
        {
          "output_type": "display_data",
          "data": {
            "image/png": "[encoded data removed]",
            "text/plain": [
              "<Figure size 648x432 with 1 Axes>"
            ]
          },
          "metadata": {
            "tags": [],
            "needs_background": "light"
          }
        }
      ]
    },
    {
      "cell_type": "markdown",
      "metadata": {
        "id": "SNskRBP1Mb_b"
      },
      "source": [
        "> All the data are very close to each other. Dropping emp_length."
      ]
    },
    {
      "cell_type": "code",
      "metadata": {
        "id": "akCEgMkmMb_b"
      },
      "source": [
        "df.drop('emp_length', axis=1, inplace=True)"
      ],
      "execution_count": 43,
      "outputs": []
    },
    {
      "cell_type": "code",
      "metadata": {
        "id": "2SAGklatMb_b",
        "outputId": "ccfcde28-97cd-4f12-cdda-bc03a2c871bf",
        "colab": {
          "base_uri": "https://localhost:8080/"
        }
      },
      "source": [
        "df.isna().sum()"
      ],
      "execution_count": 44,
      "outputs": [
        {
          "output_type": "execute_result",
          "data": {
            "text/plain": [
              "loan_amnt               0    \n",
              "term                    0    \n",
              "int_rate                0    \n",
              "installment             0    \n",
              "grade                   0    \n",
              "sub_grade               0    \n",
              "home_ownership          0    \n",
              "annual_inc              0    \n",
              "verification_status     0    \n",
              "issue_d                 0    \n",
              "purpose                 0    \n",
              "title                   1755 \n",
              "dti                     0    \n",
              "earliest_cr_line        0    \n",
              "open_acc                0    \n",
              "pub_rec                 0    \n",
              "revol_bal               0    \n",
              "revol_util              276  \n",
              "total_acc               0    \n",
              "initial_list_status     0    \n",
              "application_type        0    \n",
              "mort_acc                37795\n",
              "pub_rec_bankruptcies    535  \n",
              "address                 0    \n",
              "loan_repaid             0    \n",
              "dtype: int64"
            ]
          },
          "metadata": {
            "tags": []
          },
          "execution_count": 44
        }
      ]
    },
    {
      "cell_type": "markdown",
      "metadata": {
        "id": "6LhO8RU4Mb_c"
      },
      "source": [
        "> Title column is simply a string subcategory/description of the purpose column. Dropping"
      ]
    },
    {
      "cell_type": "code",
      "metadata": {
        "id": "OCvOHKggMb_c"
      },
      "source": [
        "df.drop('title', axis=1, inplace=True)"
      ],
      "execution_count": 45,
      "outputs": []
    },
    {
      "cell_type": "markdown",
      "metadata": {
        "id": "2Df2IEo6Mb_c"
      },
      "source": [
        "> mort_acc"
      ]
    },
    {
      "cell_type": "code",
      "metadata": {
        "id": "nOdfR8yUMb_c",
        "outputId": "c503a07a-f244-4f8b-cb96-c02a42979931",
        "colab": {
          "base_uri": "https://localhost:8080/"
        }
      },
      "source": [
        "df.corr()['mort_acc'].sort_values(ascending=False)"
      ],
      "execution_count": 46,
      "outputs": [
        {
          "output_type": "execute_result",
          "data": {
            "text/plain": [
              "mort_acc                1.000000\n",
              "total_acc               0.381072\n",
              "annual_inc              0.236320\n",
              "loan_amnt               0.222315\n",
              "revol_bal               0.194925\n",
              "installment             0.193694\n",
              "open_acc                0.109205\n",
              "loan_repaid             0.073111\n",
              "pub_rec_bankruptcies    0.027239\n",
              "pub_rec                 0.011552\n",
              "revol_util              0.007514\n",
              "dti                    -0.025439\n",
              "int_rate               -0.082583\n",
              "Name: mort_acc, dtype: float64"
            ]
          },
          "metadata": {
            "tags": []
          },
          "execution_count": 46
        }
      ]
    },
    {
      "cell_type": "code",
      "metadata": {
        "id": "GKZ_rv7MMb_d"
      },
      "source": [
        "total_acc_avg = df.groupby('total_acc').mean()['mort_acc']"
      ],
      "execution_count": 47,
      "outputs": []
    },
    {
      "cell_type": "code",
      "metadata": {
        "id": "hDrTKmpwMb_d"
      },
      "source": [
        "def impute_mort_acc(total_acc, mort_acc):\n",
        "    '''\n",
        "    Accepts the total_acc and mort_acc values for the row.\n",
        "    Checks if the mort_acc is NaN , if so, it returns the avg mort_acc value\n",
        "    for the corresponding total_acc value for that row.\n",
        "    \n",
        "    total_acc_avg here should be a Series or dictionary containing the mapping of the\n",
        "    groupby averages of mort_acc per total_acc values.\n",
        "    '''\n",
        "    if np.isnan(mort_acc):\n",
        "        return total_acc_avg[total_acc]\n",
        "    else: \n",
        "        return mort_acc"
      ],
      "execution_count": 48,
      "outputs": []
    },
    {
      "cell_type": "code",
      "metadata": {
        "id": "ojUh231yMb_d"
      },
      "source": [
        "df['mort_acc'] = df.apply(lambda x: impute_mort_acc(x['total_acc'], x['mort_acc']), axis=1)"
      ],
      "execution_count": 49,
      "outputs": []
    },
    {
      "cell_type": "code",
      "metadata": {
        "id": "oih2IWr6Mb_e",
        "outputId": "ed095c24-67fb-42ce-edfc-0abb58481780",
        "colab": {
          "base_uri": "https://localhost:8080/"
        }
      },
      "source": [
        "df.isna().sum()"
      ],
      "execution_count": 50,
      "outputs": [
        {
          "output_type": "execute_result",
          "data": {
            "text/plain": [
              "loan_amnt               0  \n",
              "term                    0  \n",
              "int_rate                0  \n",
              "installment             0  \n",
              "grade                   0  \n",
              "sub_grade               0  \n",
              "home_ownership          0  \n",
              "annual_inc              0  \n",
              "verification_status     0  \n",
              "issue_d                 0  \n",
              "purpose                 0  \n",
              "dti                     0  \n",
              "earliest_cr_line        0  \n",
              "open_acc                0  \n",
              "pub_rec                 0  \n",
              "revol_bal               0  \n",
              "revol_util              276\n",
              "total_acc               0  \n",
              "initial_list_status     0  \n",
              "application_type        0  \n",
              "mort_acc                0  \n",
              "pub_rec_bankruptcies    535\n",
              "address                 0  \n",
              "loan_repaid             0  \n",
              "dtype: int64"
            ]
          },
          "metadata": {
            "tags": []
          },
          "execution_count": 50
        }
      ]
    },
    {
      "cell_type": "markdown",
      "metadata": {
        "id": "6XeEl1ogMb_e"
      },
      "source": [
        "> Since remaining missing values accounts less than 0.5% of the total data we can safely remove missing remove."
      ]
    },
    {
      "cell_type": "code",
      "metadata": {
        "id": "L0i46_ImMb_f"
      },
      "source": [
        "df.dropna(inplace=True)"
      ],
      "execution_count": 51,
      "outputs": []
    },
    {
      "cell_type": "code",
      "metadata": {
        "id": "WD2DqJl1Mb_f",
        "outputId": "82b7c891-6c1a-4ba5-b6ec-f890a130d61b",
        "colab": {
          "base_uri": "https://localhost:8080/"
        }
      },
      "source": [
        "df.isna().sum()"
      ],
      "execution_count": 52,
      "outputs": [
        {
          "output_type": "execute_result",
          "data": {
            "text/plain": [
              "loan_amnt               0\n",
              "term                    0\n",
              "int_rate                0\n",
              "installment             0\n",
              "grade                   0\n",
              "sub_grade               0\n",
              "home_ownership          0\n",
              "annual_inc              0\n",
              "verification_status     0\n",
              "issue_d                 0\n",
              "purpose                 0\n",
              "dti                     0\n",
              "earliest_cr_line        0\n",
              "open_acc                0\n",
              "pub_rec                 0\n",
              "revol_bal               0\n",
              "revol_util              0\n",
              "total_acc               0\n",
              "initial_list_status     0\n",
              "application_type        0\n",
              "mort_acc                0\n",
              "pub_rec_bankruptcies    0\n",
              "address                 0\n",
              "loan_repaid             0\n",
              "dtype: int64"
            ]
          },
          "metadata": {
            "tags": []
          },
          "execution_count": 52
        }
      ]
    },
    {
      "cell_type": "markdown",
      "metadata": {
        "id": "34aYxVsqMb_f"
      },
      "source": [
        "><h3> Handling categorical data</h3>"
      ]
    },
    {
      "cell_type": "code",
      "metadata": {
        "id": "5ly73ZwdMb_f",
        "outputId": "2f901cbe-4bb8-4483-fc99-35573a14aa0d",
        "colab": {
          "base_uri": "https://localhost:8080/"
        }
      },
      "source": [
        "df.select_dtypes(['object']).columns"
      ],
      "execution_count": 53,
      "outputs": [
        {
          "output_type": "execute_result",
          "data": {
            "text/plain": [
              "Index(['term', 'grade', 'sub_grade', 'home_ownership', 'verification_status',\n",
              "       'issue_d', 'purpose', 'earliest_cr_line', 'initial_list_status',\n",
              "       'application_type', 'address'],\n",
              "      dtype='object')"
            ]
          },
          "metadata": {
            "tags": []
          },
          "execution_count": 53
        }
      ]
    },
    {
      "cell_type": "markdown",
      "metadata": {
        "id": "LuIfEsk6Mb_f"
      },
      "source": [
        "**term**"
      ]
    },
    {
      "cell_type": "code",
      "metadata": {
        "id": "KtqRFPFeMb_h"
      },
      "source": [
        "df['term'] = df['term'].apply(lambda term: int(re.findall(r'\\d+', term)[0]))"
      ],
      "execution_count": 54,
      "outputs": []
    },
    {
      "cell_type": "markdown",
      "metadata": {
        "id": "H0tuAoP2Mb_h"
      },
      "source": [
        "**grade**"
      ]
    },
    {
      "cell_type": "code",
      "metadata": {
        "id": "da4eFPIGMb_h"
      },
      "source": [
        "#Dropping grade since we can use sub_grade as an alternative.\n",
        "df.drop('grade', axis=1, inplace=True)"
      ],
      "execution_count": 55,
      "outputs": []
    },
    {
      "cell_type": "markdown",
      "metadata": {
        "id": "2t69uSmvMb_h"
      },
      "source": [
        "**sub_grade, verification_status, application_type, initial_list_status, purpose**"
      ]
    },
    {
      "cell_type": "code",
      "metadata": {
        "id": "GxJdBvPFMb_i"
      },
      "source": [
        "def handling_categorical_variables(column_name, df):\n",
        "    dummies = pd.get_dummies(df[column_name], drop_first=True)\n",
        "    df = pd.concat([df,dummies],axis=1)\n",
        "    df.drop(column_name, axis=1, inplace=True)\n",
        "    return df"
      ],
      "execution_count": 56,
      "outputs": []
    },
    {
      "cell_type": "code",
      "metadata": {
        "id": "MRs536zbMb_i"
      },
      "source": [
        "cat_list = ['sub_grade', 'verification_status', 'application_type','initial_list_status','purpose'] \n",
        "df = handling_categorical_variables(cat_list, df)"
      ],
      "execution_count": 57,
      "outputs": []
    },
    {
      "cell_type": "markdown",
      "metadata": {
        "id": "RMOywYK5Mb_i"
      },
      "source": [
        "**home_ownership**"
      ]
    },
    {
      "cell_type": "code",
      "metadata": {
        "id": "vhSDasqVMb_j",
        "outputId": "ffae9c4a-32f1-4121-df8d-ec50020b68fa",
        "colab": {
          "base_uri": "https://localhost:8080/"
        }
      },
      "source": [
        "df['home_ownership'].value_counts()"
      ],
      "execution_count": 58,
      "outputs": [
        {
          "output_type": "execute_result",
          "data": {
            "text/plain": [
              "MORTGAGE    198022\n",
              "RENT        159395\n",
              "OWN         37660 \n",
              "OTHER       110   \n",
              "NONE        29    \n",
              "ANY         3     \n",
              "Name: home_ownership, dtype: int64"
            ]
          },
          "metadata": {
            "tags": []
          },
          "execution_count": 58
        }
      ]
    },
    {
      "cell_type": "code",
      "metadata": {
        "id": "yWeTtFCuMb_j"
      },
      "source": [
        "df['home_ownership'] = df['home_ownership'].replace(['NONE', 'ANY'], 'OTHER')"
      ],
      "execution_count": 59,
      "outputs": []
    },
    {
      "cell_type": "code",
      "metadata": {
        "id": "D6XV5hroMb_k"
      },
      "source": [
        "df = handling_categorical_variables(['home_ownership'], df)"
      ],
      "execution_count": 60,
      "outputs": []
    },
    {
      "cell_type": "markdown",
      "metadata": {
        "id": "krHZZ6M8Mb_k"
      },
      "source": [
        "**address**"
      ]
    },
    {
      "cell_type": "code",
      "metadata": {
        "id": "WphpsI6wMb_l"
      },
      "source": [
        "df['zipcode'] = df['address'].apply(lambda add: add[-5:])\n",
        "df.drop('address', axis=1, inplace=True)"
      ],
      "execution_count": 61,
      "outputs": []
    },
    {
      "cell_type": "code",
      "metadata": {
        "id": "L9Qu_8-eMb_l",
        "outputId": "350651e4-c000-47d5-e0d9-c65a3423718c",
        "colab": {
          "base_uri": "https://localhost:8080/"
        }
      },
      "source": [
        "df['zipcode'].unique()"
      ],
      "execution_count": 62,
      "outputs": [
        {
          "output_type": "execute_result",
          "data": {
            "text/plain": [
              "array(['22690', '05113', '00813', '11650', '30723', '70466', '29597',\n",
              "       '48052', '86630', '93700'], dtype=object)"
            ]
          },
          "metadata": {
            "tags": []
          },
          "execution_count": 62
        }
      ]
    },
    {
      "cell_type": "code",
      "metadata": {
        "id": "BTGQPhvrMb_l"
      },
      "source": [
        "df = handling_categorical_variables(['zipcode'], df)"
      ],
      "execution_count": 63,
      "outputs": []
    },
    {
      "cell_type": "markdown",
      "metadata": {
        "id": "CMeKTZj0Mb_l"
      },
      "source": [
        "**issue_d**\n",
        "\n",
        ">This column can be a reason of data leakage as we won't be having this data at the time of prediction. Dropping"
      ]
    },
    {
      "cell_type": "code",
      "metadata": {
        "id": "5YNEdLk4Mb_m"
      },
      "source": [
        "df.drop('issue_d', axis=1, inplace=True)"
      ],
      "execution_count": 64,
      "outputs": []
    },
    {
      "cell_type": "markdown",
      "metadata": {
        "id": "Wzs0hYj5Mb_m"
      },
      "source": [
        "**earliest_cr_line**"
      ]
    },
    {
      "cell_type": "code",
      "metadata": {
        "id": "CBHulvslMb_m"
      },
      "source": [
        "df['earliest_cr_year'] = df['earliest_cr_line'].apply(lambda x: int(re.findall(r'\\d+', x)[0]))"
      ],
      "execution_count": 65,
      "outputs": []
    },
    {
      "cell_type": "code",
      "metadata": {
        "id": "tzA5IqEMMb_m"
      },
      "source": [
        "df.drop('earliest_cr_line', axis=1, inplace=True)"
      ],
      "execution_count": 66,
      "outputs": []
    },
    {
      "cell_type": "code",
      "metadata": {
        "id": "yHuyP2FAMb_n",
        "outputId": "eba56594-f0ae-4d6b-e240-2f531d9ad9de",
        "colab": {
          "base_uri": "https://localhost:8080/"
        }
      },
      "source": [
        "df.select_dtypes(['object']).columns"
      ],
      "execution_count": 67,
      "outputs": [
        {
          "output_type": "execute_result",
          "data": {
            "text/plain": [
              "Index([], dtype='object')"
            ]
          },
          "metadata": {
            "tags": []
          },
          "execution_count": 67
        }
      ]
    },
    {
      "cell_type": "markdown",
      "metadata": {
        "id": "5FXBw4CDMb_o"
      },
      "source": [
        "# #3 Data Preparation"
      ]
    },
    {
      "cell_type": "code",
      "metadata": {
        "id": "6J1ZvbOwMb_o"
      },
      "source": [
        "def prepare_data(df):\n",
        "    X = df.drop('loan_repaid', axis=1)\n",
        "    y = df['loan_repaid']\n",
        "    return train_test_split(X, y, test_size=0.33, random_state=42)"
      ],
      "execution_count": 157,
      "outputs": []
    },
    {
      "cell_type": "code",
      "metadata": {
        "id": "SawYY0bjMb_p"
      },
      "source": [
        "#Using sample of our original dataframe due to hardware performance issue\n",
        "sub_df = df.sample(frac=0.1,random_state=101)"
      ],
      "execution_count": 158,
      "outputs": []
    },
    {
      "cell_type": "code",
      "metadata": {
        "id": "QCs4pWvjMb_q"
      },
      "source": [
        "X_train, X_test, y_train, y_test = prepare_data(df)"
      ],
      "execution_count": 159,
      "outputs": []
    },
    {
      "cell_type": "markdown",
      "metadata": {
        "id": "Yy8VEUVEMb_r"
      },
      "source": [
        "# #4 Data Normalization"
      ]
    },
    {
      "cell_type": "code",
      "metadata": {
        "id": "xGNCoaMpMb_s"
      },
      "source": [
        "from sklearn.preprocessing import MinMaxScaler\n",
        "scaler = MinMaxScaler()\n",
        "X_train = scaler.fit_transform(X_train)\n",
        "X_test = scaler.transform(X_test) # Just transform to avoid leakage of data."
      ],
      "execution_count": 160,
      "outputs": []
    },
    {
      "cell_type": "markdown",
      "metadata": {
        "id": "WNH0m342cUyl"
      },
      "source": [
        "# #5 Creating Model"
      ]
    },
    {
      "cell_type": "code",
      "metadata": {
        "id": "JaLb5q6ZMb_s"
      },
      "source": [
        "import tensorflow as tf\n",
        "from tensorflow.keras.models import Sequential\n",
        "from tensorflow.keras.layers import Dense, Activation, Dropout\n",
        "from tensorflow.keras.constraints import max_norm\n",
        "from tensorflow.keras.callbacks import EarlyStopping"
      ],
      "execution_count": 161,
      "outputs": []
    },
    {
      "cell_type": "code",
      "metadata": {
        "id": "xXXm8gLpMb_t"
      },
      "source": [
        "early_stop = EarlyStopping(monitor='val_loss', mode='min', verbose=1, patience=25)"
      ],
      "execution_count": 162,
      "outputs": []
    },
    {
      "cell_type": "code",
      "metadata": {
        "id": "ChQehj2sMb_t"
      },
      "source": [
        "model = Sequential()\n",
        "\n",
        "# input layer\n",
        "model.add(Dense(78,  activation='relu'))\n",
        "#model.add(Dropout(0.2))\n",
        "\n",
        "# hidden layer\n",
        "model.add(Dense(39, activation='relu'))\n",
        "#model.add(Dropout(0.2))\n",
        "\n",
        "# hidden layer\n",
        "model.add(Dense(19, activation='relu'))\n",
        "#model.add(Dropout(0.2))\n",
        "\n",
        "# output layer\n",
        "model.add(Dense(units=1,activation='sigmoid'))\n",
        "\n",
        "# Compile model\n",
        "model.compile(loss='binary_crossentropy', optimizer='adam')"
      ],
      "execution_count": 229,
      "outputs": []
    },
    {
      "cell_type": "code",
      "metadata": {
        "id": "J5_h7krdMb_t",
        "outputId": "9a6ec37a-01ed-4172-bb55-2af4e2801704",
        "colab": {
          "base_uri": "https://localhost:8080/"
        }
      },
      "source": [
        "model.fit(x=X_train, \n",
        "          y=y_train, \n",
        "          epochs=25,\n",
        "          batch_size=256,\n",
        "          validation_data=(X_test, y_test), \n",
        "          callbacks = [early_stop]\n",
        "          )"
      ],
      "execution_count": 164,
      "outputs": [
        {
          "output_type": "stream",
          "text": [
            "Epoch 1/25\n",
            "1035/1035 [==============================] - 3s 3ms/step - loss: 0.2927 - val_loss: 0.2651\n",
            "Epoch 2/25\n",
            "1035/1035 [==============================] - 3s 2ms/step - loss: 0.2639 - val_loss: 0.2618\n",
            "Epoch 3/25\n",
            "1035/1035 [==============================] - 3s 2ms/step - loss: 0.2619 - val_loss: 0.2618\n",
            "Epoch 4/25\n",
            "1035/1035 [==============================] - 3s 3ms/step - loss: 0.2609 - val_loss: 0.2595\n",
            "Epoch 5/25\n",
            "1035/1035 [==============================] - 3s 2ms/step - loss: 0.2597 - val_loss: 0.2592\n",
            "Epoch 6/25\n",
            "1035/1035 [==============================] - 3s 2ms/step - loss: 0.2587 - val_loss: 0.2604\n",
            "Epoch 7/25\n",
            "1035/1035 [==============================] - 3s 2ms/step - loss: 0.2585 - val_loss: 0.2592\n",
            "Epoch 8/25\n",
            "1035/1035 [==============================] - 3s 2ms/step - loss: 0.2581 - val_loss: 0.2591\n",
            "Epoch 9/25\n",
            "1035/1035 [==============================] - 3s 2ms/step - loss: 0.2576 - val_loss: 0.2588\n",
            "Epoch 10/25\n",
            "1035/1035 [==============================] - 3s 2ms/step - loss: 0.2570 - val_loss: 0.2599\n",
            "Epoch 11/25\n",
            "1035/1035 [==============================] - 3s 2ms/step - loss: 0.2566 - val_loss: 0.2599\n",
            "Epoch 12/25\n",
            "1035/1035 [==============================] - 3s 2ms/step - loss: 0.2562 - val_loss: 0.2596\n",
            "Epoch 13/25\n",
            "1035/1035 [==============================] - 3s 2ms/step - loss: 0.2561 - val_loss: 0.2594\n",
            "Epoch 14/25\n",
            "1035/1035 [==============================] - 3s 3ms/step - loss: 0.2556 - val_loss: 0.2588\n",
            "Epoch 15/25\n",
            "1035/1035 [==============================] - 3s 2ms/step - loss: 0.2551 - val_loss: 0.2590\n",
            "Epoch 16/25\n",
            "1035/1035 [==============================] - 3s 3ms/step - loss: 0.2547 - val_loss: 0.2597\n",
            "Epoch 17/25\n",
            "1035/1035 [==============================] - 3s 3ms/step - loss: 0.2542 - val_loss: 0.2595\n",
            "Epoch 18/25\n",
            "1035/1035 [==============================] - 3s 2ms/step - loss: 0.2540 - val_loss: 0.2601\n",
            "Epoch 19/25\n",
            "1035/1035 [==============================] - 3s 2ms/step - loss: 0.2537 - val_loss: 0.2594\n",
            "Epoch 20/25\n",
            "1035/1035 [==============================] - 3s 2ms/step - loss: 0.2533 - val_loss: 0.2604\n",
            "Epoch 21/25\n",
            "1035/1035 [==============================] - 3s 3ms/step - loss: 0.2529 - val_loss: 0.2613\n",
            "Epoch 22/25\n",
            "1035/1035 [==============================] - 3s 2ms/step - loss: 0.2524 - val_loss: 0.2611\n",
            "Epoch 23/25\n",
            "1035/1035 [==============================] - 3s 2ms/step - loss: 0.2520 - val_loss: 0.2606\n",
            "Epoch 24/25\n",
            "1035/1035 [==============================] - 3s 2ms/step - loss: 0.2515 - val_loss: 0.2608\n",
            "Epoch 25/25\n",
            "1035/1035 [==============================] - 3s 2ms/step - loss: 0.2514 - val_loss: 0.2610\n"
          ],
          "name": "stdout"
        },
        {
          "output_type": "execute_result",
          "data": {
            "text/plain": [
              "<tensorflow.python.keras.callbacks.History at 0x7feba44bd6d8>"
            ]
          },
          "metadata": {
            "tags": []
          },
          "execution_count": 164
        }
      ]
    },
    {
      "cell_type": "code",
      "metadata": {
        "id": "Rz5CvEJdMb_t",
        "outputId": "509a966e-200b-40c8-bd98-4cf1889fc5db",
        "colab": {
          "base_uri": "https://localhost:8080/",
          "height": 283
        }
      },
      "source": [
        "losses = pd.DataFrame(model.history.history)\n",
        "losses.plot()"
      ],
      "execution_count": 165,
      "outputs": [
        {
          "output_type": "execute_result",
          "data": {
            "text/plain": [
              "<matplotlib.axes._subplots.AxesSubplot at 0x7feba43f9080>"
            ]
          },
          "metadata": {
            "tags": []
          },
          "execution_count": 165
        },
        {
          "output_type": "display_data",
          "data": {
            "image/png": "[encoded data removed]",
            "text/plain": [
              "<Figure size 432x288 with 1 Axes>"
            ]
          },
          "metadata": {
            "tags": [],
            "needs_background": "light"
          }
        }
      ]
    },
    {
      "cell_type": "code",
      "metadata": {
        "id": "MAf4XEFLMb_u"
      },
      "source": [
        "predictions = model.predict_classes(X_test)"
      ],
      "execution_count": 166,
      "outputs": []
    },
    {
      "cell_type": "code",
      "metadata": {
        "id": "sX6AT0IoMb_v"
      },
      "source": [
        "from sklearn.metrics import classification_report, confusion_matrix"
      ],
      "execution_count": 167,
      "outputs": []
    },
    {
      "cell_type": "code",
      "metadata": {
        "id": "BMIP-b1BMb_v",
        "outputId": "3226c669-f6b1-4aaf-e484-59642a8e005c",
        "colab": {
          "base_uri": "https://localhost:8080/"
        }
      },
      "source": [
        "print(classification_report(y_test, predictions))"
      ],
      "execution_count": 168,
      "outputs": [
        {
          "output_type": "stream",
          "text": [
            "              precision    recall  f1-score   support\n",
            "\n",
            "           0       0.91      0.47      0.62     25480\n",
            "           1       0.89      0.99      0.93    104943\n",
            "\n",
            "    accuracy                           0.89    130423\n",
            "   macro avg       0.90      0.73      0.78    130423\n",
            "weighted avg       0.89      0.89      0.87    130423\n",
            "\n"
          ],
          "name": "stdout"
        }
      ]
    },
    {
      "cell_type": "code",
      "metadata": {
        "id": "GsnH21DUMb_v",
        "outputId": "95437161-6a98-4216-ac92-543d813bd9f1",
        "colab": {
          "base_uri": "https://localhost:8080/"
        }
      },
      "source": [
        "print(confusion_matrix(y_test, predictions))"
      ],
      "execution_count": 169,
      "outputs": [
        {
          "output_type": "stream",
          "text": [
            "[[ 12089  13391]\n",
            " [  1253 103690]]\n"
          ],
          "name": "stdout"
        }
      ]
    },
    {
      "cell_type": "markdown",
      "metadata": {
        "id": "VUO_kWX_mElu"
      },
      "source": [
        "> The recall for Fully Paid is almost perfect which could be sign of overfitting in the data let's see if find anything insight in load_repaid columns"
      ]
    },
    {
      "cell_type": "code",
      "metadata": {
        "id": "x5fiaybxbYwI",
        "outputId": "39707143-f3b3-4b4a-a014-f280dd2c50fd",
        "colab": {
          "base_uri": "https://localhost:8080/",
          "height": 355
        }
      },
      "source": [
        "sb.countplot(sub_df['loan_repaid'])"
      ],
      "execution_count": 171,
      "outputs": [
        {
          "output_type": "stream",
          "text": [
            "/usr/local/lib/python3.6/dist-packages/seaborn/_decorators.py:43: FutureWarning: Pass the following variable as a keyword arg: x. From version 0.12, the only valid positional argument will be `data`, and passing other arguments without an explicit keyword will result in an error or misinterpretation.\n",
            "  FutureWarning\n"
          ],
          "name": "stderr"
        },
        {
          "output_type": "execute_result",
          "data": {
            "text/plain": [
              "<matplotlib.axes._subplots.AxesSubplot at 0x7feba427feb8>"
            ]
          },
          "metadata": {
            "tags": []
          },
          "execution_count": 171
        },
        {
          "output_type": "display_data",
          "data": {
            "image/png": "[encoded data removed]",
            "text/plain": [
              "<Figure size 432x288 with 1 Axes>"
            ]
          },
          "metadata": {
            "tags": [],
            "needs_background": "light"
          }
        }
      ]
    },
    {
      "cell_type": "markdown",
      "metadata": {
        "id": "mPB0LI_umYhd"
      },
      "source": [
        "> Target variable is skewed."
      ]
    },
    {
      "cell_type": "code",
      "metadata": {
        "id": "rk8pwrZ_mfQW",
        "outputId": "5bb48a54-d3e5-4866-f4c9-50553e23a5db",
        "colab": {
          "base_uri": "https://localhost:8080/"
        }
      },
      "source": [
        "charged_off = df[df['loan_repaid']==0]\r\n",
        "len(charged_off)"
      ],
      "execution_count": 336,
      "outputs": [
        {
          "output_type": "execute_result",
          "data": {
            "text/plain": [
              "77523"
            ]
          },
          "metadata": {
            "tags": []
          },
          "execution_count": 336
        }
      ]
    },
    {
      "cell_type": "code",
      "metadata": {
        "id": "um-_HJjhmkQl",
        "outputId": "8c75e577-4665-4b09-d782-61c2228f86b8",
        "colab": {
          "base_uri": "https://localhost:8080/"
        }
      },
      "source": [
        "fully_paid =  df[df['loan_repaid']==1]\r\n",
        "len(fully_paid)"
      ],
      "execution_count": 337,
      "outputs": [
        {
          "output_type": "execute_result",
          "data": {
            "text/plain": [
              "317696"
            ]
          },
          "metadata": {
            "tags": []
          },
          "execution_count": 337
        }
      ]
    },
    {
      "cell_type": "code",
      "metadata": {
        "id": "rc0fVGfjm2gr"
      },
      "source": [
        "from random import randint\r\n",
        "fully_paid = fully_paid.sample(int(len(charged_off)+ len(charged_off)*0.10))"
      ],
      "execution_count": 427,
      "outputs": []
    },
    {
      "cell_type": "code",
      "metadata": {
        "id": "3Wmdrb_Hm4TA"
      },
      "source": [
        "balanced_df = pd.concat([fully_paid, charged_off])"
      ],
      "execution_count": 428,
      "outputs": []
    },
    {
      "cell_type": "code",
      "metadata": {
        "id": "EumleWl4nH86",
        "outputId": "7039c16e-128f-4ca7-9c07-18dac403817e",
        "colab": {
          "base_uri": "https://localhost:8080/",
          "height": 355
        }
      },
      "source": [
        "sb.countplot(balanced_df['loan_repaid'])"
      ],
      "execution_count": 429,
      "outputs": [
        {
          "output_type": "stream",
          "text": [
            "/usr/local/lib/python3.6/dist-packages/seaborn/_decorators.py:43: FutureWarning: Pass the following variable as a keyword arg: x. From version 0.12, the only valid positional argument will be `data`, and passing other arguments without an explicit keyword will result in an error or misinterpretation.\n",
            "  FutureWarning\n"
          ],
          "name": "stderr"
        },
        {
          "output_type": "execute_result",
          "data": {
            "text/plain": [
              "<matplotlib.axes._subplots.AxesSubplot at 0x7feb962803c8>"
            ]
          },
          "metadata": {
            "tags": []
          },
          "execution_count": 429
        },
        {
          "output_type": "display_data",
          "data": {
            "image/png": "[encoded data removed]",
            "text/plain": [
              "<Figure size 432x288 with 1 Axes>"
            ]
          },
          "metadata": {
            "tags": [],
            "needs_background": "light"
          }
        }
      ]
    },
    {
      "cell_type": "code",
      "metadata": {
        "id": "Pjr_wQ4_nYoQ"
      },
      "source": [
        "X_train, X_test, y_train, y_test = prepare_data(balanced_df)"
      ],
      "execution_count": 430,
      "outputs": []
    },
    {
      "cell_type": "code",
      "metadata": {
        "id": "iqBGsv3Mo1Vo"
      },
      "source": [
        "model = Sequential()\r\n",
        "\r\n",
        "# input layer\r\n",
        "model.add(Dense(78,  activation='relu'))\r\n",
        "#model.add(Dropout(0.2))\r\n",
        "\r\n",
        "# hidden layer\r\n",
        "model.add(Dense(39, activation='relu'))\r\n",
        "#model.add(Dropout(0.2))\r\n",
        "\r\n",
        "# hidden layer\r\n",
        "model.add(Dense(19, activation='relu'))\r\n",
        "#model.add(Dropout(0.2))\r\n",
        "\r\n",
        "# output layer\r\n",
        "model.add(Dense(units=1,activation='sigmoid'))\r\n",
        "\r\n",
        "# Compile model\r\n",
        "model.compile(loss='binary_crossentropy', optimizer='adam')"
      ],
      "execution_count": 431,
      "outputs": []
    },
    {
      "cell_type": "code",
      "metadata": {
        "id": "8u0I0-3Fo5bw",
        "outputId": "36d29e49-24fa-46a6-fa70-6addad5626ce",
        "colab": {
          "base_uri": "https://localhost:8080/"
        }
      },
      "source": [
        "model.fit(x=X_train, \r\n",
        "          y=y_train, \r\n",
        "          epochs=20,\r\n",
        "          batch_size=256,\r\n",
        "          validation_data=(X_test, y_test)\r\n",
        "          )"
      ],
      "execution_count": 432,
      "outputs": [
        {
          "output_type": "stream",
          "text": [
            "Epoch 1/20\n",
            "WARNING:tensorflow:Layer dense_64 is casting an input tensor from dtype float64 to the layer's dtype of float32, which is new behavior in TensorFlow 2.  The layer has dtype float32 because its dtype defaults to floatx.\n",
            "\n",
            "If you intended to run this layer in float32, you can safely ignore this warning. If in doubt, this warning is likely only an issue if you are porting a TensorFlow 1.X model to TensorFlow 2.\n",
            "\n",
            "To change all layers to have dtype float64 by default, call `tf.keras.backend.set_floatx('float64')`. To change just this layer, pass dtype='float64' to the layer constructor. If you are the author of this layer, you can disable autocasting by passing autocast=False to the base Layer constructor.\n",
            "\n",
            "427/427 [==============================] - 2s 4ms/step - loss: 143.8183 - val_loss: 42.3144\n",
            "Epoch 2/20\n",
            "427/427 [==============================] - 1s 3ms/step - loss: 41.1306 - val_loss: 27.9392\n",
            "Epoch 3/20\n",
            "427/427 [==============================] - 1s 3ms/step - loss: 35.9372 - val_loss: 43.4857\n",
            "Epoch 4/20\n",
            "427/427 [==============================] - 1s 3ms/step - loss: 29.7637 - val_loss: 10.8501\n",
            "Epoch 5/20\n",
            "427/427 [==============================] - 1s 3ms/step - loss: 23.6960 - val_loss: 29.8865\n",
            "Epoch 6/20\n",
            "427/427 [==============================] - 1s 3ms/step - loss: 21.2203 - val_loss: 5.3493\n",
            "Epoch 7/20\n",
            "427/427 [==============================] - 1s 3ms/step - loss: 17.6766 - val_loss: 11.6787\n",
            "Epoch 8/20\n",
            "427/427 [==============================] - 1s 3ms/step - loss: 17.6187 - val_loss: 15.7467\n",
            "Epoch 9/20\n",
            "427/427 [==============================] - 1s 3ms/step - loss: 14.9207 - val_loss: 56.5516\n",
            "Epoch 10/20\n",
            "427/427 [==============================] - 1s 3ms/step - loss: 15.4929 - val_loss: 6.6516\n",
            "Epoch 11/20\n",
            "427/427 [==============================] - 1s 3ms/step - loss: 13.2542 - val_loss: 14.3409\n",
            "Epoch 12/20\n",
            "427/427 [==============================] - 1s 3ms/step - loss: 10.9281 - val_loss: 22.8738\n",
            "Epoch 13/20\n",
            "427/427 [==============================] - 1s 3ms/step - loss: 9.7972 - val_loss: 4.3220\n",
            "Epoch 14/20\n",
            "427/427 [==============================] - 1s 3ms/step - loss: 6.8813 - val_loss: 3.5126\n",
            "Epoch 15/20\n",
            "427/427 [==============================] - 1s 3ms/step - loss: 8.3951 - val_loss: 9.2915\n",
            "Epoch 16/20\n",
            "427/427 [==============================] - 1s 3ms/step - loss: 6.8436 - val_loss: 23.9636\n",
            "Epoch 17/20\n",
            "427/427 [==============================] - 1s 3ms/step - loss: 5.6364 - val_loss: 4.7660\n",
            "Epoch 18/20\n",
            "427/427 [==============================] - 1s 3ms/step - loss: 4.6544 - val_loss: 8.3731\n",
            "Epoch 19/20\n",
            "427/427 [==============================] - 1s 3ms/step - loss: 3.8174 - val_loss: 2.5898\n",
            "Epoch 20/20\n",
            "427/427 [==============================] - 1s 3ms/step - loss: 3.6888 - val_loss: 1.4276\n"
          ],
          "name": "stdout"
        },
        {
          "output_type": "execute_result",
          "data": {
            "text/plain": [
              "<tensorflow.python.keras.callbacks.History at 0x7feb961b3518>"
            ]
          },
          "metadata": {
            "tags": []
          },
          "execution_count": 432
        }
      ]
    },
    {
      "cell_type": "code",
      "metadata": {
        "id": "CRaWTvl2o7L0",
        "outputId": "de636717-77bc-41df-b366-e049c0d6ce72",
        "colab": {
          "base_uri": "https://localhost:8080/",
          "height": 283
        }
      },
      "source": [
        "losses = pd.DataFrame(model.history.history)\r\n",
        "losses.plot()"
      ],
      "execution_count": 433,
      "outputs": [
        {
          "output_type": "execute_result",
          "data": {
            "text/plain": [
              "<matplotlib.axes._subplots.AxesSubplot at 0x7feb9606c9b0>"
            ]
          },
          "metadata": {
            "tags": []
          },
          "execution_count": 433
        },
        {
          "output_type": "display_data",
          "data": {
            "image/png": "[encoded data removed]",
            "text/plain": [
              "<Figure size 432x288 with 1 Axes>"
            ]
          },
          "metadata": {
            "tags": [],
            "needs_background": "light"
          }
        }
      ]
    },
    {
      "cell_type": "code",
      "metadata": {
        "id": "nyPYHUWluSTG"
      },
      "source": [
        "predictions = model.predict_classes(X_test)"
      ],
      "execution_count": 438,
      "outputs": []
    },
    {
      "cell_type": "code",
      "metadata": {
        "id": "7RGMyOX7wnKB",
        "outputId": "2afa027a-c133-42b8-85e8-7766920731b9",
        "colab": {
          "base_uri": "https://localhost:8080/"
        }
      },
      "source": [
        "print(classification_report(y_test, predictions))"
      ],
      "execution_count": 439,
      "outputs": [
        {
          "output_type": "stream",
          "text": [
            "              precision    recall  f1-score   support\n",
            "\n",
            "           0       0.59      0.90      0.71     25607\n",
            "           1       0.83      0.44      0.57     28117\n",
            "\n",
            "    accuracy                           0.66     53724\n",
            "   macro avg       0.71      0.67      0.64     53724\n",
            "weighted avg       0.71      0.66      0.64     53724\n",
            "\n"
          ],
          "name": "stdout"
        }
      ]
    },
    {
      "cell_type": "code",
      "metadata": {
        "id": "aAy2kO18wnlk",
        "outputId": "519619f8-d4b6-48d1-8328-e9b16010fbd7",
        "colab": {
          "base_uri": "https://localhost:8080/"
        }
      },
      "source": [
        "print(confusion_matrix(y_test, predictions))"
      ],
      "execution_count": 440,
      "outputs": [
        {
          "output_type": "stream",
          "text": [
            "[[22989  2618]\n",
            " [15763 12354]]\n"
          ],
          "name": "stdout"
        }
      ]
    },
    {
      "cell_type": "markdown",
      "metadata": {
        "id": "t6JOF8iFAHzP"
      },
      "source": [
        "We'll be focusing on precision of fully paid."
      ]
    },
    {
      "cell_type": "markdown",
      "metadata": {
        "id": "PeKv6Pe1AgTW"
      },
      "source": [
        "---"
      ]
    }
  ]
}